{
 "cells": [
  {
   "cell_type": "markdown",
   "id": "0dcf5d0d",
   "metadata": {},
   "source": [
    "#### What is NLP, Why it is Important\n",
    "    - NLP, or Natural Language Processing, is a branch of artificial intelligence that focuses on enabling computers \n",
    "      to understand, interpret, and generate human language. The ultimate goal of NLP is to fill the gap between \n",
    "      human communication and computer understanding, allowing machines to interact with people in a way that is both\n",
    "      meaningful and natural.\n",
    "    - It helps developers organize knowledge for performing tasks such as translation, automatic summarization, named \n",
    "      entity recognition, speech recognition, relation extraction, and topic segmentation. These are applications of NLP.\n",
    "    - Why it is Important :- NLP can analyze large volumes of text data, helping businesses gain insights from customer \n",
    "                             reviews, social media posts, or articles.\n",
    "                           - Voice assistants like Siri or Google Assistant understand and respond to spoken commands, \n",
    "                             making it easy for users to interact with their devices using natural language.\n",
    "                           - Translation apps use NLP to convert text from one language to another, facilitating \n",
    "                             communication between people who speak different languages.\n",
    "                           - Chatbots on websites or messaging apps use NLP to understand user queries and provide \n",
    "                             information or assistance, enhancing customer support.\n",
    "                           - Companies use NLP to analyze customer feedback and reviews to understand the sentiment \n",
    "                             around their products or services.\n",
    "                           - NLP algorithms can summarize lengthy articles or documents, providing users with relevant \n",
    "                             information. \n",
    "                           - NLP can identify relationships between entities in text, helping to understand connections \n",
    "                             and associations in large datasets."
   ]
  },
  {
   "cell_type": "markdown",
   "id": "0115f02e",
   "metadata": {},
   "source": [
    "# Problem Statement\n",
    "    - Fake news Classification with Help of Natural Language Processing Technique(so what happend now a dayes, every news \n",
    "      that  we consume is not a real, if we listen to a fake news it means your collecting a wrong information, which can\n",
    "      affect the society bcause a person use or thoughts can change after consumig the fake news, we consume news through\n",
    "      several mediums in our daily routeen but sometimes it becomes difficult to decide which one is real or which one is\n",
    "      fake news, to overcome this problem, i tried and created one Model, through this model i can find weather it is fake \n",
    "      or real news)"
   ]
  },
  {
   "cell_type": "markdown",
   "id": "b37024f3",
   "metadata": {},
   "source": [
    "#### Project Flow :-                                                            \n",
    "    1) Problem Statement                                                         \n",
    "    2) Data Gathering                                                                  \n",
    "    3) Data PreProcessing : Here we perform some operations on data that we have                                              \n",
    "        A. Tokenization                                                               \n",
    "        B. Lower Case                                                                    \n",
    "        C. Stopwords                                                                                         \n",
    "        D. Lemmatization/ Stemming                                                                                   \n",
    "    4) Vectorization(to convert words into vectors) :                                                                 \n",
    "        A. Bag Of Words(CountVectorizer)                                                                         \n",
    "        B. TF-IDF                                                                                                     \n",
    "    5) Model Building :                                                                                     \n",
    "        A. Model Oject Initialization                                                                                 \n",
    "        B. Train and Test Model                                                                                        \n",
    "    6) Model Evaluation :                                                                                          \n",
    "        A. Accuracy Score                                                                                       \n",
    "        B. Confusion Matrix                                                                                  \n",
    "        C. Classification Report                                                                                       \n",
    "    7) Model Deployment                                                                                                  \n",
    "    8) Prediction on Client Data                                                                                "
   ]
  },
  {
   "cell_type": "code",
   "execution_count": 5,
   "id": "c110c15a",
   "metadata": {},
   "outputs": [],
   "source": [
    "# required Librarys\n",
    "import numpy as np\n",
    "import pandas as pd\n",
    "import seaborn as sns\n",
    "import matplotlib.pyplot as plt\n",
    "import re\n",
    "import nltk\n",
    "from nltk.corpus import stopwords\n",
    "from nltk.stem import PorterStemmer, WordNetLemmatizer\n",
    "from sklearn.model_selection import train_test_split\n",
    "from sklearn.ensemble import RandomForestClassifier\n",
    "from sklearn.feature_extraction.text import TfidfVectorizer\n",
    "from sklearn.metrics import accuracy_score, confusion_matrix, classification_report"
   ]
  },
  {
   "cell_type": "markdown",
   "id": "2c28114e",
   "metadata": {},
   "source": [
    "# 1. Data Gathering"
   ]
  },
  {
   "cell_type": "code",
   "execution_count": 6,
   "id": "61ce4c20",
   "metadata": {},
   "outputs": [
    {
     "data": {
      "text/html": [
       "<div>\n",
       "<style scoped>\n",
       "    .dataframe tbody tr th:only-of-type {\n",
       "        vertical-align: middle;\n",
       "    }\n",
       "\n",
       "    .dataframe tbody tr th {\n",
       "        vertical-align: top;\n",
       "    }\n",
       "\n",
       "    .dataframe thead th {\n",
       "        text-align: right;\n",
       "    }\n",
       "</style>\n",
       "<table border=\"1\" class=\"dataframe\">\n",
       "  <thead>\n",
       "    <tr style=\"text-align: right;\">\n",
       "      <th></th>\n",
       "      <th>Unnamed: 0</th>\n",
       "      <th>title</th>\n",
       "      <th>text</th>\n",
       "      <th>label</th>\n",
       "    </tr>\n",
       "  </thead>\n",
       "  <tbody>\n",
       "    <tr>\n",
       "      <th>0</th>\n",
       "      <td>0</td>\n",
       "      <td>LAW ENFORCEMENT ON HIGH ALERT Following Threat...</td>\n",
       "      <td>No comment is expected from Barack Obama Membe...</td>\n",
       "      <td>1</td>\n",
       "    </tr>\n",
       "    <tr>\n",
       "      <th>1</th>\n",
       "      <td>1</td>\n",
       "      <td>NaN</td>\n",
       "      <td>Did they post their votes for Hillary already?</td>\n",
       "      <td>1</td>\n",
       "    </tr>\n",
       "    <tr>\n",
       "      <th>2</th>\n",
       "      <td>2</td>\n",
       "      <td>UNBELIEVABLE! OBAMA’S ATTORNEY GENERAL SAYS MO...</td>\n",
       "      <td>Now, most of the demonstrators gathered last ...</td>\n",
       "      <td>1</td>\n",
       "    </tr>\n",
       "    <tr>\n",
       "      <th>3</th>\n",
       "      <td>3</td>\n",
       "      <td>Bobby Jindal, raised Hindu, uses story of Chri...</td>\n",
       "      <td>A dozen politically active pastors came here f...</td>\n",
       "      <td>0</td>\n",
       "    </tr>\n",
       "    <tr>\n",
       "      <th>4</th>\n",
       "      <td>4</td>\n",
       "      <td>SATAN 2: Russia unvelis an image of its terrif...</td>\n",
       "      <td>The RS-28 Sarmat missile, dubbed Satan 2, will...</td>\n",
       "      <td>1</td>\n",
       "    </tr>\n",
       "  </tbody>\n",
       "</table>\n",
       "</div>"
      ],
      "text/plain": [
       "   Unnamed: 0                                              title  \\\n",
       "0           0  LAW ENFORCEMENT ON HIGH ALERT Following Threat...   \n",
       "1           1                                                NaN   \n",
       "2           2  UNBELIEVABLE! OBAMA’S ATTORNEY GENERAL SAYS MO...   \n",
       "3           3  Bobby Jindal, raised Hindu, uses story of Chri...   \n",
       "4           4  SATAN 2: Russia unvelis an image of its terrif...   \n",
       "\n",
       "                                                text  label  \n",
       "0  No comment is expected from Barack Obama Membe...      1  \n",
       "1     Did they post their votes for Hillary already?      1  \n",
       "2   Now, most of the demonstrators gathered last ...      1  \n",
       "3  A dozen politically active pastors came here f...      0  \n",
       "4  The RS-28 Sarmat missile, dubbed Satan 2, will...      1  "
      ]
     },
     "execution_count": 6,
     "metadata": {},
     "output_type": "execute_result"
    }
   ],
   "source": [
    "df=pd.read_csv(r\"C:\\Users\\Hari\\Documents\\Projects\\WELFake_Dataset.csv\")\n",
    "df.head()"
   ]
  },
  {
   "cell_type": "markdown",
   "id": "9d13c681",
   "metadata": {},
   "source": [
    "# 2. Data Analysis"
   ]
  },
  {
   "cell_type": "code",
   "execution_count": 7,
   "id": "4d3acfcb",
   "metadata": {},
   "outputs": [
    {
     "name": "stdout",
     "output_type": "stream",
     "text": [
      "<class 'pandas.core.frame.DataFrame'>\n",
      "RangeIndex: 72134 entries, 0 to 72133\n",
      "Data columns (total 4 columns):\n",
      " #   Column      Non-Null Count  Dtype \n",
      "---  ------      --------------  ----- \n",
      " 0   Unnamed: 0  72134 non-null  int64 \n",
      " 1   title       71576 non-null  object\n",
      " 2   text        72095 non-null  object\n",
      " 3   label       72134 non-null  int64 \n",
      "dtypes: int64(2), object(2)\n",
      "memory usage: 2.2+ MB\n"
     ]
    }
   ],
   "source": [
    "df.info()"
   ]
  },
  {
   "cell_type": "code",
   "execution_count": 8,
   "id": "6197853d",
   "metadata": {},
   "outputs": [
    {
     "data": {
      "text/plain": [
       "1    37106\n",
       "0    35028\n",
       "Name: label, dtype: int64"
      ]
     },
     "execution_count": 8,
     "metadata": {},
     "output_type": "execute_result"
    }
   ],
   "source": [
    "df.label.value_counts()"
   ]
  },
  {
   "cell_type": "markdown",
   "id": "80aa0eff",
   "metadata": {},
   "source": [
    "The data is Equally distributed"
   ]
  },
  {
   "cell_type": "code",
   "execution_count": 9,
   "id": "1eab1a44",
   "metadata": {},
   "outputs": [
    {
     "data": {
      "text/plain": [
       "(72134, 4)"
      ]
     },
     "execution_count": 9,
     "metadata": {},
     "output_type": "execute_result"
    }
   ],
   "source": [
    "df.shape"
   ]
  },
  {
   "cell_type": "code",
   "execution_count": 10,
   "id": "615c9848",
   "metadata": {},
   "outputs": [
    {
     "data": {
      "text/plain": [
       "Unnamed: 0      0\n",
       "title         558\n",
       "text           39\n",
       "label           0\n",
       "dtype: int64"
      ]
     },
     "execution_count": 10,
     "metadata": {},
     "output_type": "execute_result"
    }
   ],
   "source": [
    "df.isna().sum()"
   ]
  },
  {
   "cell_type": "code",
   "execution_count": 11,
   "id": "3c6290e7",
   "metadata": {},
   "outputs": [],
   "source": [
    "df.dropna(inplace=True)"
   ]
  },
  {
   "cell_type": "code",
   "execution_count": 13,
   "id": "d9822eee",
   "metadata": {},
   "outputs": [
    {
     "data": {
      "text/plain": [
       "Unnamed: 0    0\n",
       "title         0\n",
       "text          0\n",
       "label         0\n",
       "dtype: int64"
      ]
     },
     "execution_count": 13,
     "metadata": {},
     "output_type": "execute_result"
    }
   ],
   "source": [
    "df.isna().sum()"
   ]
  },
  {
   "cell_type": "code",
   "execution_count": 14,
   "id": "219ef52c",
   "metadata": {},
   "outputs": [
    {
     "data": {
      "text/plain": [
       "(71537, 4)"
      ]
     },
     "execution_count": 14,
     "metadata": {},
     "output_type": "execute_result"
    }
   ],
   "source": [
    "df.shape"
   ]
  },
  {
   "cell_type": "code",
   "execution_count": 15,
   "id": "62fd9b14",
   "metadata": {},
   "outputs": [
    {
     "data": {
      "text/plain": [
       "1    36509\n",
       "0    35028\n",
       "Name: label, dtype: int64"
      ]
     },
     "execution_count": 15,
     "metadata": {},
     "output_type": "execute_result"
    }
   ],
   "source": [
    "df.label.value_counts()"
   ]
  },
  {
   "cell_type": "code",
   "execution_count": 16,
   "id": "fb4475b7",
   "metadata": {},
   "outputs": [],
   "source": [
    "df=df.reset_index()"
   ]
  },
  {
   "cell_type": "code",
   "execution_count": 17,
   "id": "30cec501",
   "metadata": {},
   "outputs": [
    {
     "data": {
      "text/html": [
       "<div>\n",
       "<style scoped>\n",
       "    .dataframe tbody tr th:only-of-type {\n",
       "        vertical-align: middle;\n",
       "    }\n",
       "\n",
       "    .dataframe tbody tr th {\n",
       "        vertical-align: top;\n",
       "    }\n",
       "\n",
       "    .dataframe thead th {\n",
       "        text-align: right;\n",
       "    }\n",
       "</style>\n",
       "<table border=\"1\" class=\"dataframe\">\n",
       "  <thead>\n",
       "    <tr style=\"text-align: right;\">\n",
       "      <th></th>\n",
       "      <th>index</th>\n",
       "      <th>Unnamed: 0</th>\n",
       "      <th>title</th>\n",
       "      <th>text</th>\n",
       "      <th>label</th>\n",
       "    </tr>\n",
       "  </thead>\n",
       "  <tbody>\n",
       "    <tr>\n",
       "      <th>0</th>\n",
       "      <td>0</td>\n",
       "      <td>0</td>\n",
       "      <td>LAW ENFORCEMENT ON HIGH ALERT Following Threat...</td>\n",
       "      <td>No comment is expected from Barack Obama Membe...</td>\n",
       "      <td>1</td>\n",
       "    </tr>\n",
       "    <tr>\n",
       "      <th>1</th>\n",
       "      <td>2</td>\n",
       "      <td>2</td>\n",
       "      <td>UNBELIEVABLE! OBAMA’S ATTORNEY GENERAL SAYS MO...</td>\n",
       "      <td>Now, most of the demonstrators gathered last ...</td>\n",
       "      <td>1</td>\n",
       "    </tr>\n",
       "    <tr>\n",
       "      <th>2</th>\n",
       "      <td>3</td>\n",
       "      <td>3</td>\n",
       "      <td>Bobby Jindal, raised Hindu, uses story of Chri...</td>\n",
       "      <td>A dozen politically active pastors came here f...</td>\n",
       "      <td>0</td>\n",
       "    </tr>\n",
       "    <tr>\n",
       "      <th>3</th>\n",
       "      <td>4</td>\n",
       "      <td>4</td>\n",
       "      <td>SATAN 2: Russia unvelis an image of its terrif...</td>\n",
       "      <td>The RS-28 Sarmat missile, dubbed Satan 2, will...</td>\n",
       "      <td>1</td>\n",
       "    </tr>\n",
       "    <tr>\n",
       "      <th>4</th>\n",
       "      <td>5</td>\n",
       "      <td>5</td>\n",
       "      <td>About Time! Christian Group Sues Amazon and SP...</td>\n",
       "      <td>All we can say on this one is it s about time ...</td>\n",
       "      <td>1</td>\n",
       "    </tr>\n",
       "  </tbody>\n",
       "</table>\n",
       "</div>"
      ],
      "text/plain": [
       "   index  Unnamed: 0                                              title  \\\n",
       "0      0           0  LAW ENFORCEMENT ON HIGH ALERT Following Threat...   \n",
       "1      2           2  UNBELIEVABLE! OBAMA’S ATTORNEY GENERAL SAYS MO...   \n",
       "2      3           3  Bobby Jindal, raised Hindu, uses story of Chri...   \n",
       "3      4           4  SATAN 2: Russia unvelis an image of its terrif...   \n",
       "4      5           5  About Time! Christian Group Sues Amazon and SP...   \n",
       "\n",
       "                                                text  label  \n",
       "0  No comment is expected from Barack Obama Membe...      1  \n",
       "1   Now, most of the demonstrators gathered last ...      1  \n",
       "2  A dozen politically active pastors came here f...      0  \n",
       "3  The RS-28 Sarmat missile, dubbed Satan 2, will...      1  \n",
       "4  All we can say on this one is it s about time ...      1  "
      ]
     },
     "execution_count": 17,
     "metadata": {},
     "output_type": "execute_result"
    }
   ],
   "source": [
    "df.head()"
   ]
  },
  {
   "cell_type": "markdown",
   "id": "27f5ba8e",
   "metadata": {},
   "source": [
    "Here im working on Title Column, so i require only title and lable columns Actually what happend if we see text it have more elements, the processing it will take so much time, so that im performing analysis on Title column"
   ]
  },
  {
   "cell_type": "code",
   "execution_count": 18,
   "id": "26c8c50b",
   "metadata": {},
   "outputs": [
    {
     "data": {
      "text/plain": [
       "'LAW ENFORCEMENT ON HIGH ALERT Following Threats Against Cops And Whites On 9-11By #BlackLivesMatter And #FYF911 Terrorists [VIDEO]'"
      ]
     },
     "execution_count": 18,
     "metadata": {},
     "output_type": "execute_result"
    }
   ],
   "source": [
    "df.title[0]"
   ]
  },
  {
   "cell_type": "code",
   "execution_count": 19,
   "id": "6c80265d",
   "metadata": {},
   "outputs": [
    {
     "data": {
      "text/plain": [
       "'No comment is expected from Barack Obama Members of the #FYF911 or #FukYoFlag and #BlackLivesMatter movements called for the lynching and hanging of white people and cops. They encouraged others on a radio show Tuesday night to  turn the tide  and kill white people and cops to send a message about the killing of black people in America.One of the F***YoFlag organizers is called  Sunshine.  She has a radio blog show hosted from Texas called,  Sunshine s F***ing Opinion Radio Show. A snapshot of her #FYF911 @LOLatWhiteFear Twitter page at 9:53 p.m. shows that she was urging supporters to  Call now!! #fyf911 tonight we continue to dismantle the illusion of white Below is a SNAPSHOT Twitter Radio Call Invite   #FYF911The radio show aired at 10:00 p.m. eastern standard time.During the show, callers clearly call for  lynching  and  killing  of white people.A 2:39 minute clip from the radio show can be heard here. It was provided to Breitbart Texas by someone who would like to be referred to as  Hannibal.  He has already received death threats as a result of interrupting #FYF911 conference calls.An unidentified black man said  when those mother f**kers are by themselves, that s when when we should start f***ing them up. Like they do us, when a bunch of them ni**ers takin  one of us out, that s how we should roll up.  He said,  Cause we already roll up in gangs anyway. There should be six or seven black mother f**ckers, see that white person, and then lynch their ass. Let s turn the tables. They conspired that if  cops started losing people,  then  there will be a state of emergency. He speculated that one of two things would happen,  a big-ass [R s?????] war,  or  ni**ers, they are going to start backin  up. We are already getting killed out here so what the f**k we got to lose? Sunshine could be heard saying,  Yep, that s true. That s so f**king true. He said,  We need to turn the tables on them. Our kids are getting shot out here. Somebody needs to become a sacrifice on their side.He said,  Everybody ain t down for that s**t, or whatever, but like I say, everybody has a different position of war.  He continued,  Because they don t give a f**k anyway.  He said again,  We might as well utilized them for that s**t and turn the tables on these n**ers. He said, that way  we can start lookin  like we ain t havin  that many casualties, and there can be more causalities on their side instead of ours. They are out their killing black people, black lives don t matter, that s what those mother f**kers   so we got to make it matter to them. Find a mother f**ker that is alone. Snap his ass, and then f***in hang him from a damn tree. Take a picture of it and then send it to the mother f**kers. We  just need one example,  and  then people will start watchin .  This will turn the tables on s**t, he said. He said this will start  a trickle-down effect.  He said that when one white person is hung and then they are just  flat-hanging,  that will start the  trickle-down effect.  He continued,  Black people are good at starting trends. He said that was how  to get the upper-hand. Another black man spoke up saying they needed to kill  cops that are killing us. The first black male said,  That will be the best method right there. Breitbart Texas previously reported how Sunshine was upset when  racist white people  infiltrated and disrupted one of her conference calls. She subsequently released the phone number of one of the infiltrators. The veteran immediately started receiving threatening calls.One of the #F***YoFlag movement supporters allegedly told a veteran who infiltrated their publicly posted conference call,  We are going to rape and gut your pregnant wife, and your f***ing piece of sh*t unborn creature will be hung from a tree. Breitbart Texas previously encountered Sunshine at a Sandra Bland protest at the Waller County Jail in Texas, where she said all white people should be killed. She told journalists and photographers,  You see this nappy-ass hair on my head?   That means I am one of those more militant Negroes.  She said she was at the protest because  these redneck mother-f**kers murdered Sandra Bland because she had nappy hair like me. #FYF911 black radicals say they will be holding the  imperial powers  that are actually responsible for the terrorist attacks on September 11th accountable on that day, as reported by Breitbart Texas. There are several websites and Twitter handles for the movement. Palmetto Star  describes himself as one of the head organizers. He said in a YouTube video that supporters will be burning their symbols of  the illusion of their superiority,  their  false white supremacy,  like the American flag, the British flag, police uniforms, and Ku Klux Klan hoods.Sierra McGrone or  Nocturnus Libertus  posted,  you too can help a young Afrikan clean their a** with the rag of oppression.  She posted two photos, one that appears to be herself, and a photo of a black man, wiping their naked butts with the American flag.For entire story: Breitbart News'"
      ]
     },
     "execution_count": 19,
     "metadata": {},
     "output_type": "execute_result"
    }
   ],
   "source": [
    "df.text[0]"
   ]
  },
  {
   "cell_type": "code",
   "execution_count": 20,
   "id": "e996881c",
   "metadata": {},
   "outputs": [
    {
     "data": {
      "text/plain": [
       "Index(['index', 'Unnamed: 0', 'title', 'text', 'label'], dtype='object')"
      ]
     },
     "execution_count": 20,
     "metadata": {},
     "output_type": "execute_result"
    }
   ],
   "source": [
    "df.columns"
   ]
  },
  {
   "cell_type": "code",
   "execution_count": 21,
   "id": "d0a7c55c",
   "metadata": {},
   "outputs": [],
   "source": [
    "df.drop(['Unnamed: 0','text'],axis=1,inplace=True)"
   ]
  },
  {
   "cell_type": "code",
   "execution_count": 22,
   "id": "f8adfdbc",
   "metadata": {},
   "outputs": [
    {
     "data": {
      "text/plain": [
       "Index(['index', 'title', 'label'], dtype='object')"
      ]
     },
     "execution_count": 22,
     "metadata": {},
     "output_type": "execute_result"
    }
   ],
   "source": [
    "df.columns"
   ]
  },
  {
   "cell_type": "code",
   "execution_count": 23,
   "id": "fc73c11f",
   "metadata": {},
   "outputs": [
    {
     "data": {
      "text/html": [
       "<div>\n",
       "<style scoped>\n",
       "    .dataframe tbody tr th:only-of-type {\n",
       "        vertical-align: middle;\n",
       "    }\n",
       "\n",
       "    .dataframe tbody tr th {\n",
       "        vertical-align: top;\n",
       "    }\n",
       "\n",
       "    .dataframe thead th {\n",
       "        text-align: right;\n",
       "    }\n",
       "</style>\n",
       "<table border=\"1\" class=\"dataframe\">\n",
       "  <thead>\n",
       "    <tr style=\"text-align: right;\">\n",
       "      <th></th>\n",
       "      <th>index</th>\n",
       "      <th>title</th>\n",
       "      <th>label</th>\n",
       "    </tr>\n",
       "  </thead>\n",
       "  <tbody>\n",
       "    <tr>\n",
       "      <th>0</th>\n",
       "      <td>0</td>\n",
       "      <td>LAW ENFORCEMENT ON HIGH ALERT Following Threat...</td>\n",
       "      <td>1</td>\n",
       "    </tr>\n",
       "    <tr>\n",
       "      <th>1</th>\n",
       "      <td>2</td>\n",
       "      <td>UNBELIEVABLE! OBAMA’S ATTORNEY GENERAL SAYS MO...</td>\n",
       "      <td>1</td>\n",
       "    </tr>\n",
       "    <tr>\n",
       "      <th>2</th>\n",
       "      <td>3</td>\n",
       "      <td>Bobby Jindal, raised Hindu, uses story of Chri...</td>\n",
       "      <td>0</td>\n",
       "    </tr>\n",
       "    <tr>\n",
       "      <th>3</th>\n",
       "      <td>4</td>\n",
       "      <td>SATAN 2: Russia unvelis an image of its terrif...</td>\n",
       "      <td>1</td>\n",
       "    </tr>\n",
       "    <tr>\n",
       "      <th>4</th>\n",
       "      <td>5</td>\n",
       "      <td>About Time! Christian Group Sues Amazon and SP...</td>\n",
       "      <td>1</td>\n",
       "    </tr>\n",
       "  </tbody>\n",
       "</table>\n",
       "</div>"
      ],
      "text/plain": [
       "   index                                              title  label\n",
       "0      0  LAW ENFORCEMENT ON HIGH ALERT Following Threat...      1\n",
       "1      2  UNBELIEVABLE! OBAMA’S ATTORNEY GENERAL SAYS MO...      1\n",
       "2      3  Bobby Jindal, raised Hindu, uses story of Chri...      0\n",
       "3      4  SATAN 2: Russia unvelis an image of its terrif...      1\n",
       "4      5  About Time! Christian Group Sues Amazon and SP...      1"
      ]
     },
     "execution_count": 23,
     "metadata": {},
     "output_type": "execute_result"
    }
   ],
   "source": [
    "df.head()"
   ]
  },
  {
   "cell_type": "markdown",
   "id": "8ca3c72a",
   "metadata": {},
   "source": [
    "# 3. Data PreProcessing"
   ]
  },
  {
   "cell_type": "markdown",
   "id": "4da548eb",
   "metadata": {},
   "source": [
    "## 1.Tokenization\n",
    "    Types :- word tokenization, sentence tokenization and Whitespace Tokenization"
   ]
  },
  {
   "cell_type": "code",
   "execution_count": 25,
   "id": "3f2e9589",
   "metadata": {},
   "outputs": [
    {
     "data": {
      "text/plain": [
       "['The', 'quick', 'brown', 'fox', 'jumps', 'over', 'the', 'lazy', 'dog']"
      ]
     },
     "execution_count": 25,
     "metadata": {},
     "output_type": "execute_result"
    }
   ],
   "source": [
    "# here we are using Word tokenization, it is mainly used to breaking the sentances into separate the words or tokens\n",
    "sample_data = 'The quick brown fox jumps over the lazy dog'\n",
    "sample_data = sample_data.split()\n",
    "sample_data"
   ]
  },
  {
   "cell_type": "markdown",
   "id": "29a60c0b",
   "metadata": {},
   "source": [
    "### 2. Make Lowercase"
   ]
  },
  {
   "cell_type": "code",
   "execution_count": 27,
   "id": "26ff45e8",
   "metadata": {},
   "outputs": [
    {
     "data": {
      "text/plain": [
       "['the', 'quick', 'brown', 'fox', 'jumps', 'over', 'the', 'lazy', 'dog']"
      ]
     },
     "execution_count": 27,
     "metadata": {},
     "output_type": "execute_result"
    }
   ],
   "source": [
    "# to treet all words are similar/ to give similar mportance/ weight to the word, we will perform this operation \n",
    "sample_data = [data.lower() for data in sample_data]\n",
    "sample_data"
   ]
  },
  {
   "cell_type": "markdown",
   "id": "931ea351",
   "metadata": {},
   "source": [
    "### 3. Remove Stopwords"
   ]
  },
  {
   "cell_type": "code",
   "execution_count": 28,
   "id": "0fb2b01d",
   "metadata": {},
   "outputs": [
    {
     "name": "stdout",
     "output_type": "stream",
     "text": [
      "['i', 'me', 'my', 'myself', 'we', 'our', 'ours', 'ourselves', 'you', \"you're\"]\n",
      "179\n"
     ]
    }
   ],
   "source": [
    "# to remove normal words into the list we will perform this operation, basically stop words not give much \n",
    "# information to the model to predict something/ for redusing some noice from the Text.\n",
    "stopwords = stopwords.words('english')\n",
    "print(stopwords[0:10])\n",
    "print(len(stopwords))"
   ]
  },
  {
   "cell_type": "code",
   "execution_count": 29,
   "id": "d3783b57",
   "metadata": {},
   "outputs": [
    {
     "name": "stdout",
     "output_type": "stream",
     "text": [
      "['quick', 'brown', 'fox', 'jumps', 'lazy', 'dog']\n"
     ]
    },
    {
     "data": {
      "text/plain": [
       "6"
      ]
     },
     "execution_count": 29,
     "metadata": {},
     "output_type": "execute_result"
    }
   ],
   "source": [
    "sample_data = [data for data in sample_data if data not in stopwords]\n",
    "print(sample_data)\n",
    "len(sample_data)"
   ]
  },
  {
   "cell_type": "markdown",
   "id": "465b69cf",
   "metadata": {},
   "source": [
    "### 4. Stemming\n",
    "    - stemming in NLP is a process of reducing words to their base or root form by removing suffixes, which helps in\n",
    "      simplifying and grouping words with similar meanings.\n",
    "    - In natural language processing (NLP), stemming is a text normalization technique that involves reducing words to\n",
    "      their base or root form, usually by removing suffixes. The purpose of stemming is to group words with similar \n",
    "      meanings together, even if they are not identical.\n",
    "    - EX :- * Original Words:jump, jumps, jumped, jumping\n",
    "            * Stemmed Words (using a simple stemmer): jump"
   ]
  },
  {
   "cell_type": "code",
   "execution_count": 31,
   "id": "ecb57cd4",
   "metadata": {},
   "outputs": [
    {
     "name": "stdout",
     "output_type": "stream",
     "text": [
      "['quick', 'brown', 'fox', 'jump', 'lazi', 'dog']\n"
     ]
    }
   ],
   "source": [
    "# it will give base word to analysis the text \n",
    "ps = PorterStemmer()\n",
    "sample_data_stemming = [ps.stem(data) for data in sample_data]\n",
    "print(sample_data_stemming)"
   ]
  },
  {
   "cell_type": "markdown",
   "id": "79c4ea24",
   "metadata": {},
   "source": [
    "### 5. Lemmatization\n",
    "    - lemmatization is a valuable process in NLP for transforming words to their base forms with meaningfull word, \n",
    "      promoting consistency and accuracy in language processing tasks."
   ]
  },
  {
   "cell_type": "code",
   "execution_count": 32,
   "id": "82d64ccb",
   "metadata": {},
   "outputs": [
    {
     "name": "stdout",
     "output_type": "stream",
     "text": [
      "['quick', 'brown', 'fox', 'jump', 'lazy', 'dog']\n"
     ]
    }
   ],
   "source": [
    "lm = WordNetLemmatizer()\n",
    "sample_data_lemma = [lm.lemmatize(data) for data in sample_data]\n",
    "print(sample_data_lemma)"
   ]
  },
  {
   "cell_type": "markdown",
   "id": "56651193",
   "metadata": {},
   "source": [
    "#### when to use what :-\n",
    "    - Stemming:\n",
    "        - Use Case: Stemming is often used when the focus is on simplicity and speed. It involves removing prefixes \n",
    "          or suffixes from words to get to the word stem.\n",
    "        - Example Context: In a chatting application's name suggestion feature, where quick and efficient suggestions \n",
    "          are crucial, stemming might be preferred.\n",
    "    - Lemmatization:\n",
    "        - Use Case: Lemmatization is used when the goal is to obtain meaningful words by reducing them to their base \n",
    "          or root form (lemma).\n",
    "        - Example Context: In voice or language applications, where the emphasis is on providing meaningful suggestions\n",
    "          or understanding user input accurately, lemmatization might be more suitable.\n",
    "    * To elaborate further:\n",
    "    - Stemming Example (in a chatting application):\n",
    "        - Original: \"running\"\n",
    "        - Stem: \"run\"\n",
    "    - Lemmatization Example (in voice or language applications):\n",
    "        - Original: \"better\" (adjective)\n",
    "        - Lemma: \"good\"\n",
    "    - In summary, the choice between stemming and lemmatization depends on the specific requirements of the application.\n",
    "      Stemming is often chosen for its simplicity and speed, while lemmatization is preferred when maintaining the meaning\n",
    "      of words is crucial, such as in language understanding tasks.\n",
    "    - if spped is focused then we will use Stemming ex :- in chatting application name suggestion \n",
    "    - if we want meaningfull word then we will use Lemmatization :- if voice or language applications we use Lemmatization"
   ]
  },
  {
   "cell_type": "code",
   "execution_count": 33,
   "id": "ecbba541",
   "metadata": {},
   "outputs": [],
   "source": [
    "lm = WordNetLemmatizer()\n",
    "corpus = []             #Initialize an empty list to store processed text\n",
    "for i in range (len(df)): # Iterate through each row in the DataFrame 'df'\n",
    "    review = re.sub('^a-zA-Z0-9',' ', df['title'][i])  # Remove non-alphabetic and non-numeric characters, leaving only alphabets and numbers, This step removes unwanted characters.\n",
    "    review = review.lower()                            # Convert the text to lowercase\n",
    "    review = review.split()                            # Split the text into a list of words\n",
    "    review = [lm.lemmatize(x) for x in review if x not in stopwords] # Lemmatize each word using the WordNetLemmatizer, and remove stopwords\n",
    "    review = \" \".join(review)                           # Join the lemmatized words back into a single string\n",
    "    corpus.append(review)                              #  Append the processed text to the 'corpus' list"
   ]
  },
  {
   "cell_type": "code",
   "execution_count": 34,
   "id": "3fd34930",
   "metadata": {},
   "outputs": [
    {
     "data": {
      "text/plain": [
       "['law enforcement high alert following threat cop white 9-11by #blacklivesmatter #fyf911 terrorist [video]',\n",
       " 'unbelievable! obama’s attorney general say charlotte rioter “peaceful” protesters…in home state north carolina [video]',\n",
       " 'bobby jindal, raised hindu, us story christian conversion woo evangelicals potential 2016 bid',\n",
       " 'satan 2: russia unvelis image terrifying new ‘supernuke’ – western world take notice',\n",
       " 'time! christian group sue amazon splc designation hate group',\n",
       " 'dr ben carson targeted irs: “i never audit spoke national prayer breakfast.”',\n",
       " 'house intel chair trump-russia fake story: “no evidence anything” [video]',\n",
       " 'sport bar owner ban nfl games…will show ‘true american’ sports: ‘i’d like speak rural america’ [video]',\n",
       " 'latest pipeline leak underscore danger dakota access pipeline',\n",
       " 'gop senator smacked punchable alt-right nazi internet',\n",
       " 'may brexit offer would hurt, cost eu citizen - eu parliament',\n",
       " 'schumer call trump appoint official oversee puerto rico relief',\n",
       " 'watch: hilarious ad call question health aging clinton crime family boss',\n",
       " 'change expected espn political agenda despite huge subscriber decline - breitbart',\n",
       " 'billionaire odebrecht brazil scandal released house arrest',\n",
       " 'british woman loses virginity asylum seeking rapist way church',\n",
       " 'u.n. seek humanitarian pause sanaa street \"battlegrounds\"',\n",
       " 'major liberal rag reluctantly publishes article president trump’s outstanding accomplishments…it’s explain success everyone laughing',\n",
       " \"second judge say clinton email setup may 'bad faith'\",\n",
       " 'america give grand piano horse',\n",
       " 'hillary’s crime family: end day u.s.a',\n",
       " 'sean spicer baffle reporters, claim trump isn’t responsible hiring flynn (video)',\n",
       " 'unholy alliance: hillary clinton’s saudi sponsor support terrorism, islamist extremism',\n",
       " 'even trump’s best friend joe scarborough can’t handle ‘disqualifying’ kkk support (video)',\n",
       " 'boom! danish government considers seizing migrant’s valuable pay benefit',\n",
       " 'supreme court won’t hear appeal texas voter id case - new york time',\n",
       " 'islamic state driven last stronghold northern iraq',\n",
       " 'senator propose giving state option keep affordable care act - new york time',\n",
       " 'belong extraterrestrial lineage?',\n",
       " \"zimbabwe's mugabe appears public first time since coup\",\n",
       " 'credit suisse bos face revolt banker strategy shift - new york time',\n",
       " 'robbing innocence: 12 yr old student given cdc survey transgender, gay oral sex',\n",
       " 'schaeuble head german parliament, unblocking coalition talk',\n",
       " 'u.s.-china summit, trump press xi trade, north korea; progress cited',\n",
       " 'clinton extends lead trump 7 points: reuters/ipsos',\n",
       " 'joe biden’s shocking announcement: “what hell, man?” [video]',\n",
       " 'comment une petite fille russe de 4 an appris à parler 7 langues',\n",
       " 'emboldened nra threatens new york times: ‘we’re coming you’ (video)',\n",
       " 'noam chomsky go donald trump: ‘he’s clown!’ (video)',\n",
       " '5 way medium responded butthurt donald trump’s victory',\n",
       " 'iran, russia turkey agree enforce syria cease-fire, don’t explain - new york time',\n",
       " 'breaking: obama poised exact revenge putin unprecedented cyber attack allegedly exposing hillary emails…while campaigning hillary',\n",
       " \"trump say brexit 'a great thing', want quick trade deal uk\",\n",
       " 'sekulow: expect ‘whining testimony’ comey ‘he need ‘grow act like adult’',\n",
       " 'mayday carolina queen - new york time',\n",
       " 'illinois house pass $5 billion tax package, spending plan',\n",
       " 'at&t, time warner death privacy',\n",
       " 'architect built career resuscitating new york landmark - new york time',\n",
       " 'american dream, revisited',\n",
       " 'fear iranian general left iraqi kurdish oil field deserted',\n",
       " 'once-tolerant mosul, social unraveling feel permanent - new york time',\n",
       " 'u.s. patent review board becomes conservative target',\n",
       " 'trump interview four fed chair job, decide two-three week',\n",
       " 'delingpole: top physicist leading republican urge trump quit paris climate agreement',\n",
       " 'internationally-backed libyan force attack daesh position sirte',\n",
       " 'obamacare: wheel slowly falling socialized healthcare train…billions wasted',\n",
       " 'msnbc, dnc reach deal host democratic debate new hampshire',\n",
       " 'georgetown professor instruct student ’resist’ trump presidency - breitbart',\n",
       " 'u.s. house approves bill financial regulation cost',\n",
       " 'ron paul: ‘i can’t support trump he’s gop pick’ ‘neocons love hillary’',\n",
       " '“progressive” de blasio visit iowa: denies he’s running president…so wanted visit iowa?',\n",
       " 'elijah cummings made sure gop well aware they’re hypocritical a**holes regarding flint',\n",
       " 'fbi director comey’s october surprise derail hillary’s white house bid?',\n",
       " 'man seems think helped world war two',\n",
       " 'gop lawmaker trump: stop acting like ‘fragile’ snowflake town hall protest',\n",
       " 'trump extols corporate profit seeking corporate tax cut',\n",
       " 'michael moore owes $4.99',\n",
       " 'philippine ferry capsizes 251 board, four dead',\n",
       " 'hillary dnc speech: “we going follow money” [video]… george soros make stunning $25 million donation hillary dems',\n",
       " 'donald trump, indonesia, aleppo: wednesday evening briefing - new york time',\n",
       " \"death toll blast somalia's capital mogadishu top 200\",\n",
       " 'donald trump return bashing ’fake media’',\n",
       " 'idiot destroyed trump hollywood star get exactly deserves',\n",
       " 'great flood 8 king ruled earth 241,200 year',\n",
       " 'three arrested starting massive fire atlanta interstate bridge',\n",
       " 'collapsing: ‘russia hack’ witch hunt end well congress, america',\n",
       " 'white house voice concern senate sept. 11 lawsuit bill',\n",
       " '‘arab spring’ washington-brussels-riyadh axis',\n",
       " \"woman knit pink 'pussyhats' rally trump inauguration\",\n",
       " 'unsilenced: whistleblower expose un culture corruption',\n",
       " 'cnn advertises job listing full time ’fake news’ reporter',\n",
       " 'snapchat discover take hard line misleading explicit image - new york time',\n",
       " '“in face”: obama launch new #refugeeswelcome twitter campaign twitter',\n",
       " 'u.s. ally show support strike syria',\n",
       " 'homophobe lose damn mind request ‘give elsa girlfriend’ hit twitter',\n",
       " \"obama troll trump 'mean tweet' late night tv\",\n",
       " 'another clinton casualty? sister woman allegedly photo proving affair bill clinton, question involvement mysterious house fire death',\n",
       " \"challenge trump's immigration order spread u.s. state\",\n",
       " 'labour leader uk lawmaker could lose seat cost cutting plan',\n",
       " 'corner everglades, way life ebb - new york time',\n",
       " \"trump adviser: tpp 'dead,' move quickly bilateral trade deal\",\n",
       " 'trevor noah compare texan excited open carry law gay pride parade celebrator (video)',\n",
       " 'lol! democrats’ “poster child stupidity” can’t tell msnbc host party stand besides hating trump [video]',\n",
       " 'trump threatens comey via twitter autocratic move yet',\n",
       " 'lithuania get minority government junior partner leaf',\n",
       " 'boiler room ep #124 – weather warfare & cnn goblin pit',\n",
       " 'college republican president attacked antifa : “like pack wolves”',\n",
       " 'beyonce double down…debuts #lemonade, another race baiting, cop-hating, pro-obama song…with sweet michael brown’s mama serena williams',\n",
       " 'one person shot portland anti-trump protester cross bridge: police',\n",
       " 'helping immigrants, chobani’s founder draw threat - new york time',\n",
       " 'lol! costco put hillary “milk aisle” book signing…customers shout “hillary prison!”…ask membership refund [video]',\n",
       " 'watch judge order punk wearing “police lie” t-shirt leave courtroom…or face contempt charge',\n",
       " 'world see diminished america',\n",
       " 'conservative message “dreamers” screaming “he’s president!” it’s hilarious!',\n",
       " 'marketwatch leftist: msm’s “blatant” anti trump bias may suicidal',\n",
       " 'comment facebook daughter’s day hoax sign time para kazanmak',\n",
       " 'hateful angry obama try bash trump front canadian parliament…real classy bo!',\n",
       " 'dod team surveying u military site potential gitmo transfers, lawmaker vow fight',\n",
       " 'way door, harry reid give big ‘f*ck you’ republican hand nevada hillary',\n",
       " 'bombshell: justice clarence thomas accused sexual misconduct (video)',\n",
       " 'german police kill assailant ax attack aboard train - new york time',\n",
       " 'austria spearhead balkan frontier defence project',\n",
       " 'cnn: one voter make difference voting repeatedly',\n",
       " 'comment 7 effective way balance hormone naturally eat way balanced hormones! - neilmd.com',\n",
       " 'native american tribe offer cash school stop using indian mascots…while 1 3 native american live poverty',\n",
       " 'poll show exactly much american detest trump',\n",
       " 'unhinged nba coach: ‘white people especially’ need made ‘uncomfortable’ [video]',\n",
       " \"new york city budget bos state: we're 'piggy bank'\",\n",
       " 'long voting line could long-term consequence - new york time',\n",
       " 'trump advisor try pivot fishtail',\n",
       " 'hillary land prison, oval office',\n",
       " \"zimbabwe's mugabe resigns, ending four decade rule\",\n",
       " 'nuclear option-the speech: trump rendering sullen democrat irrelevant - breitbart',\n",
       " 'donald trump tax record show could avoided tax nearly two decades, time found - new york time',\n",
       " 'factbox: trump twitter (july 25) - jeff sessions, obamacare, trade deal',\n",
       " 'five state department rule hillary violated [video]',\n",
       " 'dallas rally video: trump let rip “lame stream” medium karl rove',\n",
       " 'california considers tighter lobbying rule 2016 election nears',\n",
       " '5-star mooch, taxpayer funded mom meryl streep travel africa discus “gender inequality”',\n",
       " 'homeschooling education alternative rise',\n",
       " 'mexico presidential race roiled leftist front-runner embrace right wing party',\n",
       " 'atlantic vp: ’democratization’ news via internet left people ’overwhelmed information’ - breitbart',\n",
       " 'kentucky county appeal federal ruling striking right-to-work law',\n",
       " 'breaking: courageous federal judge denies obama’s request lift stay executive amnesty',\n",
       " 'wikileaks show george soros controlling vote 16 state using smartmatic voting machine',\n",
       " 'macron call french food chain change help farmer',\n",
       " 'woodward clinton foundation “it’s corrupt”',\n",
       " 'sharia law grant muslim man permission marry 8 year old [video]',\n",
       " 'watch: fox news host call president obama weak declaring war isi',\n",
       " 'poll find voter party unhappy candidate - new york time',\n",
       " 'fox host go ‘soulless’ hillary clinton, chelsea’s response priceless (tweet)',\n",
       " 'germany may need constitutional change allow strike back hacker',\n",
       " 'understand clinton’s moment, consider came 32 year ferraro’s - new york time',\n",
       " 'bolton threat trump’s middle east policy',\n",
       " 'life migrant center germany: rt talk volunteers, refugee hope & fear',\n",
       " '5 key takeaway president trump’s speech - new york time',\n",
       " 'clinton beating trump 9 point pennsylvania – here’s matter',\n",
       " '“guatemalan” man dy falling waste grinder meat plant…former worker claim hire “90% illegal aliens”…including “10-12 yr old kids”',\n",
       " '‘brexit,’ it’s divorce first, trade talk later, e.u. tell u.k. - new york time',\n",
       " 'ingraham: ’trump-iest’ part obamacare reform missing new health care bill - breitbart',\n",
       " 'barack obama’s final arms-export total double bush administration',\n",
       " 'glorious new pc nfl start next monday!',\n",
       " 'indian court acquits dentist couple killing daughter',\n",
       " 'former cia agent say obama working muslim brotherhood: “to remove american power influence, including military forces, islamic lands.”',\n",
       " 'obama obliterated gop’s threat kill supreme court hillary win',\n",
       " 'pennsylvania republican pushing ban private gun sale - breitbart',\n",
       " 'free care ‘blessing’ victim orlando nightclub attack - new york time',\n",
       " 'boiler room ep #113 – ‘cnn isis’',\n",
       " 'factbox: trump twitter (december 7) - pearl harbor remembrance day',\n",
       " 'trump unyielding hispanic judge uproar',\n",
       " 'chelsea handler hilarious proposition donald trump ‘large hands’ (tweet)',\n",
       " 'tuesday evening briefing: donald trump, golden state warriors, hillary clinton - new york time',\n",
       " \"exclusive: trump say 'major, major' conflict north korea possible, seek diplomacy\",\n",
       " 'election whistleblower: doj cahoot dems…4 million dead voter rolls…trump right! [video]',\n",
       " 'update 9/11 memorial banned “triggering” college snowflake',\n",
       " \"trump step attack 'bimbo' tweet fox news debate\",\n",
       " 'expert claim n. korea’s second missile test demonstrates ability hit 3 major city u.s. mainland',\n",
       " 'exclusive: cambodia say opposition party could barred election',\n",
       " 'johnson amendment, trump vow ‘destroy,’ explained - new york time',\n",
       " 'daily show’s hasan minaj break character admits he’s scared family (video)',\n",
       " 'lionel shriver’s address cultural appropriation roils writer festival - new york time',\n",
       " 'republican insider taking aim trump, calling penny drop',\n",
       " 'trump u.s. antitrust nominee say independent white house',\n",
       " 'watch: thing get ugly canada’s self-proclaimed “feminist” prime minister elbow woman conservative party house common floor',\n",
       " 'boaty mcboatface ii? p&o bravely asks public name new ferry',\n",
       " 'lol! liberal ohio activist go jail 13 count felony voter fraud…one year falsely accusing election board voter fraud [video]',\n",
       " 'donald trump’s alma mater told go f*ck',\n",
       " 'nanobots causing overwhelming depression. far end now...',\n",
       " 'message left immigration: disagree “america first”…who rooting for?',\n",
       " \"hillary clinton: supreme court abortion ruling 'a victory women'\",\n",
       " 'theresa may: national threat level remains severe - ’a terrorist attack highly likely’ - breitbart',\n",
       " 'amerika: ‘tolerant’ university educator exile trump voter american campus',\n",
       " \"trump's daughter ivanka joined call argentina's macri\",\n",
       " 'trump son forge ahead without father, expanding navigating conflict - new york time',\n",
       " 'jack heart: lucifer temple dog',\n",
       " 'saudi arabia face battle repatriate asset corruption crackdown',\n",
       " 'place put hand together - new york time',\n",
       " 'united resume newark-delhi flight halt due poor air quality',\n",
       " 'gallery hope sell kanye west’s ‘famous’ sculpture $4 million - new york time',\n",
       " 'rudy giuliani slam hillary refuse endorsement one group…this’ll make sick!',\n",
       " 'mistrial 2 ex-officers albuquerque killing mentally ill man - new york time',\n",
       " 'twitter destroys trump irony screaming ‘c’ marking hillary’s email',\n",
       " 'russia warns close retaliating new u.s. sanction bill: ifax',\n",
       " '‘liberal media’ scrub clip chuck todd saying something mean ted cruz (video)',\n",
       " 'one hilarious tweet perfectly sum irrelevant cnn become',\n",
       " '100 dead philippine mudslides, flooding: official',\n",
       " 'court order nigeria pay $288 million 1967 war victim',\n",
       " 'chris paul’s fast hand gruesome finger - new york time',\n",
       " 'japan discus broad econ framework u.s., bilateral fta: aso',\n",
       " '10 way america preparing world war 3',\n",
       " 'family armed robbery suspect outraged pizza hut employee shot & killed son',\n",
       " 'anti-trump radical taunt trump supporter isi flag photo beheading video',\n",
       " 'wow! atlanta gym owner ban cops…makes ‘no apologies’ policy sign (video)',\n",
       " 'turkish president return istanbul sign military coup faltering - new york time',\n",
       " 'comment sjws outrage leonardo dicaprio \"white rumi\" role unfounded, iranian explains ztech',\n",
       " '(video) hillary clinton’s twisted approval sanctuary city illegal alien',\n",
       " 'breaking: florida election employee caught faking 1,000’s stolen absentee ballot massive voter fraud scheme - usapoliticsnow',\n",
       " '“billionaire” donald trump’s presidential campaign flat broke',\n",
       " 'trump say strong europe important u.s',\n",
       " 'report: people leaving new york metro area u.s. - breitbart',\n",
       " 'obama rob fannie & freddie billions? dr. ben carson’s shocking discovery hud could clue! [video]',\n",
       " 'attorney general session defends reply russia contact',\n",
       " 'syrian war report – october 28, 2016: militant make do-or-die attempt break aleppo siege',\n",
       " \"clinton's pantsuit inspire flashmob video\",\n",
       " 'tom ford moving back us: trump made ’feel nationalistic’ - breitbart',\n",
       " 'u.s. military must accept transgender recruit jan. 1, judge rule',\n",
       " 'trump roger stone ordered court voter intimidation tactic',\n",
       " 'putin say trump hampered delivering electoral promise',\n",
       " 'trump hold series meeting assembles new administration',\n",
       " 'tv viewership fall n.f.l. premier league: blip, something worse? - new york time',\n",
       " '3 remedy medieval europe heal common cold',\n",
       " 'california governor sign epinephrine bill, blast mylan',\n",
       " 'breaking news clinton informant’s gag order hillary shaking pantsuit',\n",
       " 'trump’s flip-flop: he’s complaining obama deports many people',\n",
       " 'russia claim may killed isi leader al-baghdadi',\n",
       " 'black female math whiz space race - new york time',\n",
       " 'president trump issue warning john mccain senator’s ‘tough’ speech',\n",
       " 'appeal court judge explain donald trump’s immigration order legal - breitbart',\n",
       " 'trump endorses romney niece ronna romney mcdaniel rnc chair',\n",
       " 'hey “simpletons”…we’ve got great news! left going help identify “fake news” [video]',\n",
       " \"istanbul's ataturk airport reopens jet crash, turkish airline ceo say\",\n",
       " 'house take action block obama releasing every last guantanamo terrorist leaving white house',\n",
       " 'anthony weiner huma abedin separate latest sexting scandal - new york time',\n",
       " 'hilarious! watch happens campus cop try kick “students trump” campus building trump wall [video]',\n",
       " 'watched sarah palin’s trump endorsement speech don’t (video)',\n",
       " 'breaking news: trump admin announces “massive tax cut” business massive tax reform [video]',\n",
       " 're: we’re nasty! like democrats, sally kohn prof little think woman tweet',\n",
       " 'love first leak! former “baywatch” star pamela anderson becomes regular visitor wikileaks founder julian assange: “i think he’s quite sexy”',\n",
       " 'donald trump win presidency historic victory',\n",
       " 'north carolina hillary supporter brag facebook voting multiple time',\n",
       " 'world war 3 coming',\n",
       " 'putin tell obama western media: “either stop talking finally show kind proof”',\n",
       " 'watch: lewis black hilariously burn trump mock inauguration daily show',\n",
       " 'prominent russian journalist leaf country threat',\n",
       " 'video show whale swimming may change everything know bp oil spill (video)',\n",
       " 'u.s.-led coalition say islamic state syria convoy split two',\n",
       " 'iraq vote ban american response trump’s immigration order - breitbart',\n",
       " 'texas teen fatally shoot 5 day nra-recommended gun safety course (video)',\n",
       " 'hillary go prison, oval office [video]',\n",
       " 'comment we’re deficient magnesium, many sign & ain’t sunshine: seasonal sadness magnesium | activation health',\n",
       " 'former prime minister elected president struggling somalia - new york time',\n",
       " 'terrible week trump stick style substance wisconsin',\n",
       " 'liberalism past: idiot',\n",
       " 'benefit paleo diet',\n",
       " 'calais \"jungle\" burns, refugee try storm way back',\n",
       " 'obama immigration plan seems divide supreme court - new york time',\n",
       " 'jerry springer: bannon ’wants america basically christian white’ - breitbart',\n",
       " 'watch: trump’s bi-racial, former girlfriend two years…”i would never date racist”',\n",
       " 'u.s. supreme court decide major case obama immigration plan',\n",
       " 'watch: chuck todd blister rnc chair trump’s tax return refusal (video)',\n",
       " 'gao examine panel foreign investment u.s. strategic firm',\n",
       " 'angry inspired: democrat train new wave candidate',\n",
       " 'mrs. weiner',\n",
       " \"india call rohingya refugee 'threat national security'\",\n",
       " 'pope francis warns nation take refugee assimilate',\n",
       " 'u.s. senate move jeff session toward confirmation attorney general',\n",
       " '$1 million donated wounded warrior project sale “american sniper” dvd',\n",
       " 'former u.s. attorney: “it’s clear intel conspired frame trump” (video)',\n",
       " 'turkey say gulen network behind u.s. case turkish trader',\n",
       " 'breaking: clinton chairman’s sister-in-law lobbied clinton’s state department…earned six figure income',\n",
       " \"iceland pm call snap election coalition party quits 'breach trust'\",\n",
       " \"battle bathroom loom large north carolina governor's race\",\n",
       " 'must read: obama’s treason go overdrive',\n",
       " 'pro-clinton group launch devastating nuclear war ad trump',\n",
       " 'saudi king say kingdom made progress tackling terrorism',\n",
       " 'trump’s take corporate tax rate could look much like obama’s - new york time',\n",
       " 'dispatch wolf country –sitting cave, watching spider spin',\n",
       " 'turkey detains lawyer hunger-striking teacher ahead trial',\n",
       " 'taiwan president visit u.s. territory guam despite chinese ire',\n",
       " 'xi call concerted effort resolve korean peninsula issue: xinhua',\n",
       " 'hillary pander black vote: bust awkard, fake laugh “grieving mom” brings cheating bill [video]',\n",
       " 'list 65 mainstream medium “journalists” never trust: wikileaks bust medium hack working hillary’s top advisor',\n",
       " 'remember “pam” “the office”? real-life actress, jenna fischer, got called twitter using bad information bash trump’s tax bill',\n",
       " 'maria sharapova suspended tennis two year - new york time',\n",
       " 'pinera win first round chile election, face runoff',\n",
       " \"america's election hacked, missing link discovered\",\n",
       " 'california governor sign legislation limiting assault weapon - new york time',\n",
       " 'campaign over, president trump hold (what else?) campaign rally - new york time',\n",
       " 'un slam aleppo rebel amid accused poison gas attack',\n",
       " 'music video: russian die, never surrender',\n",
       " 'build wall! house voted funding trump’s wall partisan vote',\n",
       " 'artist peter doig win case involving painting’s attribution - new york time',\n",
       " 'hawaii renews bid narrow trump travel ban',\n",
       " 'protester target trump building massive street rally',\n",
       " 'trump pull “romney” first debate? say won’t mention bill’s infidelity unless hillary this… [video]',\n",
       " 'hurricane irma likely drop category 4 upon landfall florida: nhc',\n",
       " 'latino loathing trump drive voter movement swing election?',\n",
       " 'مذكرة مفاهيمية عن رئاسة الروسية',\n",
       " 'white house say congress reason wait nov election take tpp',\n",
       " 'u.n. envoy urge security council visit myanmar, bangladesh',\n",
       " 'trump nominate hassett chair council economic adviser',\n",
       " 'obama list regret -- again: failure secure gun control still #1',\n",
       " 'sen. tim scott: running small business make authority abortion (video)',\n",
       " 'trump executive order ethic commitment ban lobbying executive branch employee',\n",
       " 'secure cellphone ??',\n",
       " 'pope urge trump show concern poor, guided ethical value',\n",
       " 'sugar doesn’t feed cancer cell may even create',\n",
       " 'public bullishness towards stock see one highest 2-week jump history',\n",
       " 'state department enough emails, records: spokesman',\n",
       " 'texas college student outraged: traditional 9/11 memorial flag display moved…could “offend” student',\n",
       " 'nra admitted always lying obama confiscating gun',\n",
       " 'ny times: sanctuary city ’not enough’',\n",
       " 'judge napolitano reckless hillary’s emails: could responsible death cia fbi agent [video]',\n",
       " 'episode #208 – ‘not network’ – sunday wire hesher, funk$oul patrick henningsen live iraq',\n",
       " 'busted! damaging clinton foundation email yet: “friends bill”',\n",
       " 'tom hayden: thing come around mideast',\n",
       " 'watch: trump declares one best president history historic low approval rating',\n",
       " \"factbox: five fact mike pence, trump's running mate pick\",\n",
       " 'united states, anxiety up, crime',\n",
       " 'ohio state university student say terrorist attack “misunderstanding” caused racism [video]',\n",
       " 'illegal invasion continues: nyc ramping give 1 million illegals voting right',\n",
       " 're: hard working american vs. government parasite',\n",
       " \"hollande trump agreed 'clarify' key issue including middle east: source\",\n",
       " 'watch: chomsky explains gop ‘most dangerous organization human history’',\n",
       " 'trump’s son-in-law obliterated jewish family defending trump’s anti-semitic tweet',\n",
       " \"can't intersectional time elitist exclusionary\",\n",
       " 'america take 37,027 “refugees” 5 months: taking “refugees” place list?',\n",
       " 'kurdish leader barzani condemns iraqi parliament vote remove kirkuk governor: kurdish medium',\n",
       " 'milo pamela geller protest sharia-advocate linda sarsour nyc - breitbart',\n",
       " 'trump target immigrants, u.s. farm sector look automate',\n",
       " '28 alternative us life saving mylar emergency blanket',\n",
       " 'chris matthew confused georgia election loss: “i don’t know h*ll selling” [video]',\n",
       " 'future belongs ai whoever master first rule world',\n",
       " \"cnn talker famous saying 'pu***' air lash newt saying megyn's 'obsessed sex'\",\n",
       " \"murdoch's uk paper arm admits computer hacking, fuelling criticism sky takeover\",\n",
       " 'boom! judge jeanine pirro: “new deep division created obama” [video]',\n",
       " 'german industry see fdp revival boosting digital transition',\n",
       " 'sweden: migrant cry ’racism’ woman hijab asked show train ticket attack passenger knife',\n",
       " 'american food killing us? author brandon turbeville talk food middle east',\n",
       " 'gay sharia march branded ’islamophobic’, picketed lgbt activist',\n",
       " 'china see new ambiguity donald trump’s taiwan call - new york time',\n",
       " 'wow! sterling hts, mi city council cave mega-mosque project middle christian neighborhood…council member caught video admitting mosque part “religious war”',\n",
       " 'going wikileaks?',\n",
       " 'whoa! feminist hack lawyer gloria allred refuse say high school yearbook used evidence roy moore forgery',\n",
       " 'learning speak dead - new york time',\n",
       " 'ecuador vote latin america’s left sags, generation icon gone - new york time',\n",
       " 'gavel battle: boehner resignation spark house leadership scramble',\n",
       " 'obama race set gitmo terrorist free…leaves serviceman punished making “heat-of-the-battle decision saved lives” fort leavenworth',\n",
       " 'new poll asks trump voter they’d vote again…liberal head explode see result',\n",
       " 'petition stop george soros voting machine hit 100k',\n",
       " 'stephen colbert explains horrifying future gop primary race (video)',\n",
       " 'watch racist dingbat tx rep sheila jackson-lee blame leaked email [video]',\n",
       " 'richest man world put trump place donating charity',\n",
       " 'abc news: hillary swore oath accept $$$ foreign donor [video]',\n",
       " 'hariri say clarify position lebanese crisis return beirut',\n",
       " \"suppressing free press 'how dictator get started': senator mccain\",\n",
       " 'ted cruz bust elon musk flying private jet lecturing trump global warming - breitbart',\n",
       " 'julian assange reveals john podesta’s hilarious email password…”a 14 year old kid could’ve hacked podesta” [video]',\n",
       " \"black female rapper endorses trump: “black folk voting democrat last 70 year don’t shit show it…hillary treat u like ‘pets'”\",\n",
       " 'bannon allies: breitbart return imminent, gear war trump’s ‘democrat white house’',\n",
       " 'republican senator arrested attacking landscaper shovel, ‘other lawn equipment’ (video)',\n",
       " \"credited trump's success, bannon quickly fell grace\",\n",
       " 'twelve trump transition team announced today…it’s family!',\n",
       " 'trump judicial nominee withdraws consideration',\n",
       " 'eu say need concrete evidence turkey deem gulen network terrorist',\n",
       " 'see sarah palin compared donald trump – make queasy (image)',\n",
       " 'bernie sander release scathing statement rick snyder flint water crisis',\n",
       " 'leader struggle unite house republican behind health bill - new york time',\n",
       " 'dakota access caught infiltrating protest incite violence, funding troll online',\n",
       " '5 show see new york hour - new york time',\n",
       " 'watch: van jones say exactly need said tonight’s election result video',\n",
       " 'ceta step towards corporate land called euramerica',\n",
       " 'pa restaurant forced close ice sweep nabs illegal workers…attorney illegals unbelievable response',\n",
       " 'despair introspection u.s. coast trump win',\n",
       " 'trump say ready act alone north korea',\n",
       " 'u2 suddenly cancel huge st. louis concert tonight…why bono’s decision “cut run” make look like ridiculous hypocrite',\n",
       " 'hillary clinton’s real record lgbt right',\n",
       " 'watch joe scarborough frantically backtrack donald trump out supporter (video)',\n",
       " 'un orangután gana el premio planeta de los simios 2016',\n",
       " 'comment world heave sigh relief trump’s victory debbie menon',\n",
       " 'ice bust 39 ms-13 member new york operation',\n",
       " 'watch: donald trump throw hissy fit morning joe get hilariously buried',\n",
       " 'trump’s voter fraud ‘expert’ disproved voter fraud argument ironic way possible',\n",
       " 'trump urge senate republican move ahead healthcare reform',\n",
       " 'two defending champions, two outlooks, wimbledon - new york time',\n",
       " 'supreme court throw ruling obamacare contraception mandate',\n",
       " 'appraisal: leonard cohen, master meaning incantatory verse - new york time',\n",
       " 'yet another school bombing syria: 22 child 6 teacher killed',\n",
       " \"uk's johnson iran talk lobby jailed aid worker\",\n",
       " 'cnn’s lemon try downplay horrific ‘anti-trump’ torture mentally disabled man',\n",
       " 'watch lab mp claim “the government hurtling towards chaotic breakfast”',\n",
       " 'watch karma action: cnn get hit tear gas defending violent alt-left protester az trump rally',\n",
       " 'sri lanka court jail top former senior official graft',\n",
       " 'tim allen’s “last man standing” revived “passionate” conservative express outrage abc’s decision cancel show?',\n",
       " 'чем закончатся изменения региональной динамики на ближнем востоке | новое восточное обозрение',\n",
       " \"schiff: nunes decision leave probe russia offer 'fresh start'\",\n",
       " 'u.s. blacklist 10 venezuelan corruption, undermining state vote',\n",
       " 'hillaryous! huckabee compare clinton famous mobsters.',\n",
       " 'trump trade office take aggressive view wto rules: document',\n",
       " 'clear heart blockage powerful lemon garlic mixture',\n",
       " \"kuwait's ruler accepts cabinet resignation: state news agency\",\n",
       " \"zimbabwe's mugabe sack vp seen top succession candidate\",\n",
       " 'toby keith awesome response crybaby attack trump inauguration performance [video]',\n",
       " 'france raise prospect new sanction iran ballistic program',\n",
       " 'veteran newsman ted koppel scorch o’reilly: spent 20 year making news dumber (video)',\n",
       " '“donald trump diet”…lifelong liberal tell leftist friend caused lose 7 pound defended donald trump [video]',\n",
       " '‘family values’ republican introduce bill would make sex lobbyist ‘gift’',\n",
       " 'brace yourself! happens 2 week bad & elite drop paramount election secret',\n",
       " 'report: ivanka trump took kellyanne conway woodshed peddling product line',\n",
       " 'kkk grand dragon endorses hillary clinton…who’s racist now? [video]',\n",
       " 'baptist preacher: government need killing ‘sodomites’ (video)',\n",
       " 'u banana republic? - putin [valdai, part 1 1]',\n",
       " 'political world trump’s win',\n",
       " 'trump suggests people sue abc news massive stock market crash triggered #fakenews report michael flynn',\n",
       " 'heated! tucker carlson totally shuts radical liberal fox news analyst who’s running dnc chair [video]',\n",
       " \"'god bless you', netanyahu tell guatemalan president jerusalem embassy move\",\n",
       " \"u government clinton female: come psychiatrist's couch\",\n",
       " \"kansai electric scrap two reactor latest blow japan's nuclear sector\",\n",
       " 'suburban g.o.p. voter sour party, raising republican fear 2018 - new york time',\n",
       " 'ex-cuomo aide charged federal corruption inquiry - new york time',\n",
       " 'delay loretta lynch’s confirmation isn’t bias',\n",
       " 'breaking: gun store owner claim report florida terrorist fbi week massacre',\n",
       " 'mooch change tune, say reporter ‘absolutely’ recorded without permission',\n",
       " 'new photo cast doubt china’s vow militarize disputed island - new york time',\n",
       " 'belgian prosecutor charge two foiled attack high-speed train',\n",
       " 'fbi’s comey revealed disqualify hillary clinton public office! [video]',\n",
       " 'state gary johnson jill stein spoil?',\n",
       " \"huma abedin's screening process hillary visitor raise 'pay play' question\",\n",
       " 'barack obama delay suspend election hillary forced new fbi email investigation?',\n",
       " 'hot not? trump property selling like hotcakes? [video]',\n",
       " 'reading jewish zionist control united states: interview francis boyle, james petras, kim petersen',\n",
       " 'clinton move brink nomination, sander eye california upset',\n",
       " 'trump administration sends conflicting signal russia sanction',\n",
       " '“alt-left” professor make outrageous claim: flag-burning antifa ‘preserving fabric america’ [video]',\n",
       " 'togo force fire protesters, seven wounded',\n",
       " 'man sentenced 12 year beating death transgender woman - new york time',\n",
       " 'fear gay russia',\n",
       " 'dnc head leaked 2nd debate question hillary',\n",
       " 'john mccain’s granddaughter shred donald trump, declares support hillary',\n",
       " 'comment obamacare architect gruber demand “larger mandate penalty” marlene',\n",
       " 'state funded progressive indoctrination: college prof demand student adopt atheist belief leftist views…or fail',\n",
       " \"utah's evan mcmullin endorses hillary clinton, say goal stop trump\",\n",
       " 'migrant strain border towns, pressure build mexico act - new york time',\n",
       " 'hillary abruptly stop rally, couldn’t hide happened second later',\n",
       " 'bus plunge river nepal, killing least 31',\n",
       " 'study: vitamin b mother’s diet reduces risk colon cancer offspring',\n",
       " 'u.n. freedom speech expert concerned net neutrality',\n",
       " \"turkey's erdogan call killing rohingya myanmar genocide\",\n",
       " \"looming national security law raise fresh fear hong kong's freedom\",\n",
       " 'austrian disgrace: jail muslim migrant dumped baby middle road got drunk enraged',\n",
       " 'guilty hell paul manafort rick gate enter ‘not guilty’ plea russian collusion scandal (tweet/video)',\n",
       " '‘pharma bro’ face prison time offering pay people assault hillary clinton',\n",
       " 'scattering paedophile priest fine ash',\n",
       " \"trump say north korea's kim insulted calling 'old'\",\n",
       " 'arab state blacklist islamist groups, individual qatar boycott',\n",
       " 'in: flynn plead guilty lying fbi',\n",
       " 'evil know bounds: taliban executes 5 “save child workers” isi kidnaps 120 schoolchildren trained terrorist',\n",
       " 'best reason trump qualified presidential candidate we’ve decade',\n",
       " \"brexit minister say agrees eu negotiator verhofstadt last week's deal\",\n",
       " 'popular theme park water ride malfunctions… end brutal death 4 patron',\n",
       " 'art deal: putin need one trump',\n",
       " 'must watch: islamization school [video]',\n",
       " '500 nfl player plan tell trump f*** today best way possible',\n",
       " \"reader enraged msm election reporting - 'you misled readers, blinded journalistic bigotry'\",\n",
       " 'hilarious! liberal stunned republican guest won’t play race-baiting game msnbc host…cuts interview [video]',\n",
       " 'wow! kellyanne conway’s “mistake” forced leftist medium expose really happened bowling green…and truth iraqi “refugees” p.r. nightmare left [video]',\n",
       " 'name revealed top donor popular actress behind disgusting leftist latino tv ad depicting white man running minority kid truck',\n",
       " 'researcher accidentally find simple way convert harmful co2 gas green energy',\n",
       " 'breaking: melania trump’s immigration record made public, show trump’s ultimate hypocrisy',\n",
       " 'papua new guinea court reject bid restore service asylum-seeker camp',\n",
       " 'u.s. attack killed nine civilians: syrian state news agency',\n",
       " 'white house defends fbi director comey’s integrity',\n",
       " 'valentine’s day mean saving traveler - new york time',\n",
       " 'mass exodus democrat party liberal massachusetts…trump effect?',\n",
       " 'state file lawsuit challenging trump decision dreamer',\n",
       " 'russia facebook ad targeted two states: senate intelligence chair',\n",
       " 'merkel urge compromise coalition talk enter final stretch',\n",
       " 'gov. jerry brown endorses hillary clinton ahead california primary - new york time',\n",
       " 'happened: personal note young chicago cub fan',\n",
       " 'american public longer deal limitless corruption government',\n",
       " 'donald trump ridicule ‘cowardly’ leaker james comey',\n",
       " 'district columbia approves $15/hour minimum wage',\n",
       " 'eu eye self-reliance trump victory',\n",
       " 'medium won’t show video trump telling matt lauer david duke “bigot” “racist…ignores hillary’s tie former kkk leader, democrat senator robert byrd',\n",
       " 'u.s. navy carrier drill japanese navy amid north korean tension',\n",
       " \"may's brexit deal win peace home - least\",\n",
       " 'turkey urge iraqi kurd drop referendum, cite sanction',\n",
       " 'video : fbi source say indictment likely clinton – truthfeed',\n",
       " 'trump ordered give deposition washington restaurant suit',\n",
       " 'obama’s race war make way hometown chicago…where punk follows cop-hating lead',\n",
       " 'factbox: 6.1 million without power u.s. southeast irma: utility',\n",
       " 'oops! absolutely one showed nyc debut beyonce’s clothing line…is radical super bowl performance blame?',\n",
       " 'russia warns iraq, kurd destabilize middle east kurdish vote',\n",
       " 'jewish family’s hanukkah destroyed vandalism; trump supporter make worse (image)',\n",
       " 'take down! blm supporter, dem congressman hang cop-hating, race-baiting art-work u.s. capitol building',\n",
       " \"may's conservative win vote bolster party's number committee\",\n",
       " \"trump administration outline wind 'dreamer' program\",\n",
       " 'clinton lead trump 48-43 percent washington post-abc tracking poll',\n",
       " 'landfill economy',\n",
       " 'one biggest genius ever issue warning donald trump',\n",
       " 'graham’s 2020 tax law potus candidate unconstitutional',\n",
       " 'ap fake news',\n",
       " 'first, trump condemns rise anti-semitism, calling ‘horrible’ - new york time',\n",
       " 'lol! obama warns voter donald trump unvetted, unserious…”this reality show”',\n",
       " \"brazil's largest ever corruption probe nearing end, judge say\",\n",
       " 'obama’s list 21 medal freedom recipient read like who’s far left',\n",
       " 'cbs reporter asks putin comey’s firing affect russia…his answer priceless! [video]',\n",
       " 'hilarious trump christmas video: “it’s wonderful time 8 years” [video]',\n",
       " 'amy adam eye deceive - new york time',\n",
       " 'brazil judge suspends aspect j&f leniency, asset sale limbo',\n",
       " 'delingpole: revealed - real reason trump pulled paris...',\n",
       " 'exclusive: russia fuel - north korean ship may undermining sanction',\n",
       " 'boycott backfires! ivanka trump clothing line report record sale',\n",
       " 'uk government still undecided final brexit aims: hammond',\n",
       " 'comment actor jon voight’s plea save america auntie lulu',\n",
       " \"dems sue gop trump's 'rigged' complaint\",\n",
       " \"trump's march stir growing sense dread among u.s. republican\",\n",
       " \"outgoing u.s. envoy say u.n. need 'push' iran arm embargo\",\n",
       " 'comment scientist find plant could treat diabetes & kill cancer cell scientist find plant could treat diabetes & kill cancer cell – collective evolution | sfo',\n",
       " \"zimbabwe's ruling party say never succumb army threat\",\n",
       " 'medium busted latest lie trump…here’s it’s important [video]',\n",
       " 'russian official apologizes doping problem say athlete shouldn’t barred - new york time',\n",
       " 'kellogg cut 250 american workforce - breitbart',\n",
       " 'nancy need medical attention? watch nancy pelosi stumble everyday word 3rd grader pronounce [video]',\n",
       " 'test tell indigo, crystal rainbow child!',\n",
       " 'fl pastor target neighbor nazi flag display boating law (image)',\n",
       " 'trump ordered syrian air strike dinner xi',\n",
       " 'trump hit back cowgirl congresswoman trash word said grieving widow',\n",
       " \"uk's may need parliament back deal n.irish party - campaigner\",\n",
       " 'stockholm attacker ’rejected asylum seeker’: british citizen among dead',\n",
       " 'actor mark ruffalo join activist nd protest dakota access pipeline',\n",
       " 'mexico express ire u.s. migration policy, vow dialogue',\n",
       " 'zimbabwe court grant bail u.s. citizen charged subversion',\n",
       " '2 reminder ignore \"trump doomed\" poll',\n",
       " 'catalan choice delay, say former adviser',\n",
       " 'turkish air strike kill 29 kurdish militant northern iraq: army',\n",
       " 'busted: oh objective abc news chief anchor, george stephanopoulous made huge donation clinton foundation',\n",
       " 'u.s. carry first strike islamic state somalia',\n",
       " 'obama say chinese-led trade deal show need tpp: washington post',\n",
       " 'trump, clinton tension seeps joke annual charity dinner',\n",
       " \"u.s. school improve math education - onion - america's finest news source\",\n",
       " 'nwo horror: duterte say want foreign troop phillipines!!!',\n",
       " 'debbie wasserman schultz: federal government may ban passenger checking gun baggage',\n",
       " '“comedian” chris rock racist cool: “you can’t beat white people anything…nothing. knock ’em out.” [video]',\n",
       " 'democratic fund-raising group congress candidate confirms hack',\n",
       " 'strong job number hold risk clinton',\n",
       " 'official close standing rock protest campsite - new york time',\n",
       " 'u.s. commando killed yemen trump’s first counterterrorism operation - new york time',\n",
       " 'awesome! jewish democrat leader hit back harry reid defend trump appointee: [video]',\n",
       " 'turkey order arrest 110 people gulen links: medium',\n",
       " 'wingsuit flyer vs. tree',\n",
       " 'former yemeni strongman saleh played last hand lost',\n",
       " 'breaking: close aide bill clinton: “i arranged $50 million payment bill clinton”',\n",
       " 'it’s on: duterte america',\n",
       " \"world's oldest person smoked 76 year\",\n",
       " 'kuwait arrest five video deemed offensive crown prince',\n",
       " 'ivanka trump tweet dead syrian children, twitter perfect response (tweets)',\n",
       " 'kellyanne conway shuts abc news hack george stephanopoulos try convince viewer trump isn’t legitimate president [video]',\n",
       " 'lawmaker urge u.s. craft targeted sanction myanmar military',\n",
       " '‘solar winds’ spur geomagnetic storm may affect power',\n",
       " 'syrian, iranian backed force advance border area near israel',\n",
       " 'whoa! ebt card denied woman go rampage store [video]',\n",
       " 'trump likely face question travel ban meeting ceo',\n",
       " 'hillary’s state department blocked min wage hike haiti’s poorest citizen keep cost u.s. owned factory',\n",
       " 'silent deadly - russia developing devastating ‘carrier killer’ torpedo - alexander vershinin',\n",
       " 'trump nominate retired general mattis pentagon',\n",
       " 'internet destroys imbecile want make rape legal, get meet-ups cancelled (tweets/video)',\n",
       " 'gop hate humiliating fact harry reid pointed scotus nomination',\n",
       " 'case trump worker contract raise conflict interest question',\n",
       " 'mom march demand end police brutality, racial injustice',\n",
       " 'detail first putin-trump meeting yet settled: kremlin',\n",
       " 'judge order search new clinton email release september 13',\n",
       " 'rice aides, powell got classified info personal email account',\n",
       " 'obama scold senate republican supreme court threat',\n",
       " 'watch: single woman vote trump seeing video',\n",
       " 'dog waited faithfully month owner left behind',\n",
       " 'respect! student brave pouring rain take american flag',\n",
       " 'watch: trump threatens saturday night live today show appearance',\n",
       " 'protester flood barcelona demanding release separatist leader',\n",
       " 'uk pm may say take allegation russian interference seriously',\n",
       " 'november 11: daily contrarian read',\n",
       " \"second prototype china's c919 jet conduct test flight: state tv\",\n",
       " 'malaysia say decision yet new offer search missing mh370',\n",
       " 'trump say narrowed potential running mate pick five six: ap',\n",
       " 'hillary clinton knew 5 year ago anthony weiner pedophile - wikileaks',\n",
       " 'u.s. border patrol chief morgan asked leave agency',\n",
       " 'minnesota lieutenant governor replace franken senate',\n",
       " 'swiss ready provide platform dialogue catalan row: swiss tv',\n",
       " 'study: statin cholesterol-lowering drug use linked increase parkinson’s disease',\n",
       " 'watch: bill maher’s “translation” hitler’s speech show trump get crazy idea',\n",
       " 'obama unveil u.s. supreme court nomination soon: senator reid',\n",
       " 'obama cancelled oil gas drilling sacred blackfoot land',\n",
       " 'cloaked order: who’s really behind ‘new authority’ cia drone strikes?',\n",
       " 'trump supporter disgustingly tell black people ‘go back africa’ (video)',\n",
       " 'going home falluja, city slipping back turmoil - new york time',\n",
       " 'rolling stone demand trump stop using music: “can imagine president trump?…the worst nightmare”',\n",
       " 'awesome! president trump give fatherly advice ‘the road life’ ucla basketball player',\n",
       " 'trump white house : information',\n",
       " 'trump catch sick reporter snuck interview, priceless response',\n",
       " 'trump: follow bush-obama foreign policy legacy',\n",
       " '‘penis seat’ cause double take mexico city subway - new york time',\n",
       " 'illinois get june 20 deadline boost medicaid funding',\n",
       " 'major russian geopolitical move going unnoticed wake u election | vineyard saker',\n",
       " 'trump’s brexit response disaster, hillary nailed (video)',\n",
       " \"obama pass baton clinton, stir '3rd term' charge\",\n",
       " 'dead broke hillary buy million dollar “mother/daughter” home chelsea…after busted giving 5.7% clinton foundation money charity',\n",
       " '(video) obama throw america bus…again',\n",
       " 'french election nears, le pen target voter party repelled - new york time',\n",
       " 'south korea say delay military drill aimed ensuring peaceful olympics',\n",
       " 'breaking dallas: dpd chief confirms 10 officer shot, 3 dead, two surgery, 3 critical condition…shot “2 snipers” reportedly wearing body armor dallas black life matter protest [videos]…shooter loose',\n",
       " 'catcall politically correct…',\n",
       " 'clinton, sander democratic debate draw 5.6 million viewers: cnn',\n",
       " 'monica lewinsky wrote obituary roger ailes brutal',\n",
       " 'gop candidate least worst? bill maher drink bleach hilariously decides (video)',\n",
       " 'bernie sander opened something make conservatives’ head explode',\n",
       " 'dealmakers say trump presidency would bad m&a',\n",
       " 'atlanta: pandemonium world’s largest airport go dark…airport evacuated…1,161 flight canceled [video]',\n",
       " 'need know new hampshire primary',\n",
       " 'trump urge congress pas short-term spending bill',\n",
       " 'republican debate draw 13.5 million viewer cbs: network',\n",
       " 'gerry adam step end era irish nationalism',\n",
       " 'think medium racist, wait till meet grandfather, prince harry tell meghan markle',\n",
       " 'muslim refugee busted going back country claim fled vacation [video]',\n",
       " 'iowa’s de moines register endorses clinton, rubio',\n",
       " 'muslim ‘refugee’ lock wife bedroom, set house fire, watch burn – medium silence',\n",
       " 'spacex: explosion rock launchpad firm’s cape canaveral facility florida',\n",
       " 'watch: conservative group brainlessly ran ad cheering trumpcare died',\n",
       " 'fitton: eric holder california-dc corruption connection - breitbart',\n",
       " 'u.n. human right office ’concern’ burundi youth militia ’rape song’ - breitbart',\n",
       " 'new batman comic feature batman saving black man evil cop',\n",
       " 'wow! video capture angry st. louis protester turning media…tv reporter call unprovoked attack: “the scariest moment career”',\n",
       " 'donald trump long benefited trade practice scorn - new york time',\n",
       " 'trump vow tax plan boost economy; poll cite view wealthy',\n",
       " 'apple’s new macbook pro: fast light, everyone - new york time',\n",
       " 'kellyanne conway call classless cnn anchor “sexist” move [video]',\n",
       " 'g.o.p. hurry slash oil gas rules, ending industries’ 8-year wait - new york time',\n",
       " 'song bill de blasio sound sour note watchdog - new york time',\n",
       " 'uk say world stand together north korea missile launch',\n",
       " 'trump spy chief differ said call russia dossier',\n",
       " 'u.s. judge order unsealing clinton email probe search warrant',\n",
       " 'trump say could make cabinet announcement convention: fox news',\n",
       " 'new zealand held suspense kingmaker weighs coalition option',\n",
       " 'word trench – october 28, 2016',\n",
       " 'great indian novel reach american shore - new york time',\n",
       " 'watch: pentagon released explosion footage ’mother bombs’ dropped afghanistan - breitbart',\n",
       " 'trump considering ’explosive’ executive order unfair trade',\n",
       " \"trump praise chinese effort north korea 'menace,' pyongyang warns strike\",\n",
       " 'u.s. court rule infringement suit trader joe’s proceed pirate joe’s - new york time',\n",
       " 'democratic debacle – day',\n",
       " 'u.s. need 18 russian rocket engines: pentagon',\n",
       " 'austrian justice system give teen homemade nazi tattoo sentence “refugee” convicted anal rape 72 year old',\n",
       " 'christie accuses paul, lee siding ‘criminal’ snowden nsa',\n",
       " 'week obama’s executive order catastrophic space weather events, coronal mass ejection set hit election day?',\n",
       " 'state department miss deadline manage email record electronically',\n",
       " \"prize ‘winning’ frat bros' game 'rock, paper, scissors' allegedly getting rape teen\",\n",
       " 'daily 202: blocking obama’s pick replace scalia could cost republican senate majority',\n",
       " 'f.b.i.’s inquiry omar mateen, focus else could done - new york time',\n",
       " 'hollywood libs create insane propaganda video obama: warning iran bomb u nuke congress block obama’s deal,”like really dark unpleasant death toast”',\n",
       " 'breakaway civilisation',\n",
       " 'jenna bush hager michael keaton flub movie title golden globe - new york time',\n",
       " 'nbc put viewer misery…cancels disastrous megyn kelly show',\n",
       " 'cuban dissident electoral challenge castro era nears end',\n",
       " 'wow! legal hispanic american immigrant unloads racist hillary supporters: “liberals desperate know they’re gonna lose” [video]',\n",
       " 'cruz & kasich quit: trump crush elite establishment, #dropouthillary trending',\n",
       " 'turkey’s operation euphrates shield shielding what? | new eastern outlook',\n",
       " 'geoengineering watch global alert news, november 12, 2016 » geoengineering watch global alert news, november 12, 2016 | geoengineering watch',\n",
       " 'obama dance last-ever white house gig drake’s “hotline bling” [video]',\n",
       " 'irish pm say progress made brexit border talk',\n",
       " 'trey gowdy spying american citizens…like president trump! [video]',\n",
       " 'senate intel panel seek testimony trump jr.: senate source',\n",
       " 'white house set palin straight — bad parenting isn’t obama’s fault (video)',\n",
       " 'senior republican proposes oversight foreign lobbying',\n",
       " 'obama invite david letterman, ferrell leftist celebrity extravagant nordic state dinner purpose sending “strong message” putin',\n",
       " 'peaceful, sincerely, grace: paris attack commemorated floating lantern',\n",
       " 'trump demand queen britain pick gold-plated carriage, organize parade visit',\n",
       " 'history professor shuts ted cruz’s lie supreme court history fact',\n",
       " 'crack earth’s magnetic shield detected',\n",
       " 'new york road runner extend doping test lower-tier race - new york time',\n",
       " 'big bank putting rain forest peril - new york time',\n",
       " 'san juan mayor video disrespecting constitution…but take money [video]',\n",
       " 'hillary finally make statement sexual predator mega-democrat donor harvey weinstein…gets destroyed bill clinton rape accuser',\n",
       " 'dark art political intimidation',\n",
       " 'kenya vote delayed october 28 four counties: commission',\n",
       " 'project veritas: money belize | opinion - conservative',\n",
       " 'white house official say north korea test u.s.-china relation',\n",
       " \"mexico say upcoming u.s. execution national 'illegal'\",\n",
       " \"khamenei say iran 'shred' nuclear deal u.s. quits\",\n",
       " \"myanmar say u.s. sanction general based 'unreliable accusations'\",\n",
       " 'pennsylvania attorney general quits heel perjury conviction - new york time',\n",
       " 'grassley feinstein: pair lead gorsuch’s senate hearing - new york time',\n",
       " 'condell: america’s moment truth',\n",
       " 'red pill masterpiece predates',\n",
       " 'nfl’s phony patriotism: u defense department paid nfl disgusting $4.5 million on-field flag appearances…welcome home tribute',\n",
       " 'highlight clinton campaign emails: deal sander biden - new york time',\n",
       " 'baltimore burns: maryland governor brings national guard declares state emergency',\n",
       " 'lady gaga delivers subversive performance super bowl',\n",
       " 'kremlin: hope new u.s. envoy help repair u.s.-russia tie',\n",
       " 'fmr. dni james clapper: trump’s russia scandal worse watergate (video)',\n",
       " 'breaking: detroit news report potential new evidence massive vote tampering',\n",
       " \"morocco's 'mule' woman scratch living spanish enclave border\",\n",
       " \"trump say hope cuban 'freedom' castro death\",\n",
       " 'cyprus say plan help defuse lebanese crisis',\n",
       " 'racist nypd cop threaten tase black child walking street (video)',\n",
       " 'breaking: secret service take action white house intruder got close comfort [video]',\n",
       " 'smother brother birth tv buzz - new york time',\n",
       " '‘responsible gun owner’ blow leg turning lawnmower exploding target',\n",
       " 'loudmouth celebrity forced eat crow hurling vile insult ben carson “immigrant” remarks…wfb release video obama saying thing 2015',\n",
       " 'fiji spending soar battle climate risk',\n",
       " '40 year ago ronald reagan warned u obama speech [video]',\n",
       " 'watch: kellyanne conway’s latest gushing trump make america vomit',\n",
       " 'anti-trump protester tool oligarchy',\n",
       " 'devastating 30 second commercial show scary truth target’s dangerous open door bathroom policy [video]',\n",
       " 'lasers, truly upon us.',\n",
       " 'nato chief say europe interest helping afghanistan',\n",
       " 'post-obama america: liberal thug get physical n. dakota gop rep town hall [video]',\n",
       " 'trump keep obama executive order protecting lgbtq federal worker - breitbart',\n",
       " 'watch: senator john mccain tell tmz sport reporter he’s okay nfl player disrespecting flag',\n",
       " 'boiler room ep #109 – it’s wonderfull life',\n",
       " 'unbelievable! student succeed removing u border patrol agent career fair: concerned won’t make illegal student feel welcome',\n",
       " 'whoa! fox news host blamed trump violence domestic terrorist supporter [video]',\n",
       " 'scorpio new moon meditation',\n",
       " 'boom! custom agent ignore obama appointed judge’s court order…enforce trump’s travel ban',\n",
       " 'boom! kellyanne conway shuts cnn’s cuomo: “why care?” [video]',\n",
       " 'trump: new step next week ’keep country safe’ - breitbart',\n",
       " 'pressure mount merkel migrant policy future coalition',\n",
       " 'austrian parent teacher sacrifice young girl liberal altar: teen refugee sexually abuse school girl month',\n",
       " 'seth meyers take ‘a closer look’ gop’s threat hillary it’s terrifying! (video)',\n",
       " 'gop implodes trump launch nasty public fight top republican (tweets)',\n",
       " 'karma come trump, congressional committee want see comey ‘tapes’ (tweets)',\n",
       " 'trump’s definition ‘fair’ medium coverage (video)',\n",
       " 'etihad flight abu dhabi make emergency landing australia',\n",
       " 'white house chief staff welcome new member rank',\n",
       " 'lula simba, last surviving animal mosul zoo, rescued - new york time',\n",
       " 'flashback! bill clinton: “i sexual relation woman” [video]',\n",
       " 'you’re fired! trump win big, clinton going jail',\n",
       " 'breaking: federal judge stop obamacare transgender, abortion related protection',\n",
       " 'woman stab black man face christmas offering train seat',\n",
       " 'sexism compliment? german politician stokes debate',\n",
       " 'national biotechnology panel face new conflict interest question - new york time',\n",
       " 'watch live: #benshapiro speaks #berkeley antifa protest [video]',\n",
       " 'eu give june deadline deal refugee',\n",
       " 'pamela gellar group plan run muhammed cartoon ad dc bus [video]',\n",
       " 'turkey suspends non-immigrant visa service diplomatic facility u.s.',\n",
       " 'trump lawyer aim delay fraud trial hearing',\n",
       " 'elon musk’s boring machine brings excitement los angeles - breitbart',\n",
       " 'kellogg’s pull advertising breitbart news punishment conservative news slant…#boycottkelloggs',\n",
       " 'commander chief approved racism? u.s. military make shocking disciplinary decision 16 black west point cadet',\n",
       " 'florida man admits helping funnel 2012 foreign political contribution',\n",
       " 'female reporter assures viewer germany’s carnival free “rapefugees,” men sexually assault live tv [video]',\n",
       " 'coke zero: went wrong marco rubio brand?',\n",
       " \"clinton's pledge curtail fracking fall unconvinced ear\",\n",
       " 'senator seek block $1.15 billion u.s. arm sale saudi arabia',\n",
       " 'exclusive - islamic state supporter vow terror group retake mosul ‘liberators’',\n",
       " 'oklahoma lawmaker, found boy motel, charged prostitution',\n",
       " 'chuck play chicken: would block new fbi director special prosecutor named - breitbart',\n",
       " \"expert recommend breaking crushing defeat smaller, manageable failure - onion - america's finest news source\",\n",
       " 'rino mitch mcconnell praise hillary day benghazi hearing…says could work president',\n",
       " 'syrian refugee receives ridiculous sentence trafficking 13 14-yr old girl bail raping 17-yr old',\n",
       " 'donald trump begs hillary clinton early voter change vote',\n",
       " 'lawyer mobilize nation’s airport trump’s order - new york time',\n",
       " 'manuela carmena pide los madrileños que guarden la latas de los refrescos la bolsas de la basura para hacer los vestidos de los reyes magos',\n",
       " 'people magazine cover prof hillary always wildly unpopular woman',\n",
       " 'hillary’s latest challenge progressive one need taken seriously (video)',\n",
       " 'government put immigrant citizens: swedish citizen place live, jobs, need carry gun everywhere go',\n",
       " 'watch: muslim mayor rotterdam, holland muslim immigrants, “if can’t accept freedom, f*ck off”',\n",
       " 'sessions: border open - breitbart',\n",
       " \"congo republic sign peace accord 'ninja' rebel\",\n",
       " 'hawaii attorney general humiliates jeff session whining judge ‘island pacific’',\n",
       " 'republican proposes house bill force supreme court justice employee join obamacare',\n",
       " 'food drug chief gottlieb skirt health secretary talk, say effective fda',\n",
       " \"britain say minister's remark offer basis action jailed aid worker iran\",\n",
       " 'robert redford wapo: ’45 year watergate, truth danger’ - breitbart',\n",
       " 'wnba player turkey worry rise terror - new york time',\n",
       " 'trump tried ‘compliment’ democrat keith ellison. ellison’s response u (tweets)',\n",
       " 'south sudan army, rebel clash hour ceasefire',\n",
       " 'u.s. government’s predatory-lending program',\n",
       " \"trump say 'revved economy' pay budget proposals: fox\",\n",
       " 'view syrian war golan height',\n",
       " 'trump took federal money meant small business affected 9/11 attack',\n",
       " 'clock, german party haggle immigration, euro budget',\n",
       " 'tossed first tinsel? two baltic capital disagree - new york time',\n",
       " 'real truth obama planting muslim refugee small town across america',\n",
       " 'social medium firm summoned u.s. congressional hearing russia',\n",
       " 'top tech executive attend trump summit wednesday: recode',\n",
       " 'sharpton shake pastor donation memorial black youths: black pastor call sharpton “pimp”',\n",
       " 'ww3 nuclear war drill world war 3 start ukraine',\n",
       " 'https://fedup.wpengine.com/wp-content/uploads/2015/04/entitled.jpg',\n",
       " 'north korea missile crisis seen pushing south korea gun',\n",
       " 'och-ziff pay $400 million bribery settlement - new york time',\n",
       " 'copycat muslim terrorist arrested assault weapons, knife drive busy shopping area high speed [video]',\n",
       " 'factbox: trump twitter (july 26) - u.s. military, transgender individual',\n",
       " 'reflection rio - new york time',\n",
       " 'yes! trump’s utah audience chant ‘four years!’ [video]',\n",
       " 'wow! another young man found dead serving dnc paper fraud suit behalf bernie sander [video]',\n",
       " 'hillary clinton: ‘israel first’ (and peace middle east)',\n",
       " \"paul ryan: he's fiscal policy illiterate conggress\",\n",
       " 'watch: joy reid hammer republican wasting taxpayer money pay trump’s wall',\n",
       " 'russian economy minister arrested $2 million bribe rosneft deal - russia news',\n",
       " 'watch: video show baton rouge cop repeatedly shooting black man point blank chest',\n",
       " 'immigrant head washington rally obama still - new york time',\n",
       " 'factbox - german coalition watch: want experiment succeed - cdu',\n",
       " 'elizabeth warren found breathtaking hypocrisy fbi’s treatment hillary’s email',\n",
       " 'italy quake severe - new york time',\n",
       " \"treasury's mnuchin: china may face new sanction north korea\",\n",
       " 'michael moore visit wikileaks’ julian assange [video]',\n",
       " 'nonsense say',\n",
       " 'university punish raped, effectively silencing victim',\n",
       " 'u.s. see increased activity chinese bomber aircraft: official',\n",
       " 'can’t afford clean water flint, israel demand $50 billion u.s. taxpayer (video)',\n",
       " 'samantha bee rip tennessee republican new one calling rape victim liar (video)',\n",
       " 'samantha bee mock trump, roast medium ’not white house correspondents’ dinner’ - breitbart',\n",
       " 'case regarding cruz’s birthright citizenship reach supreme court',\n",
       " 'hillary clinton agrees provide private e-mail server fbi',\n",
       " 'powerful mexico former union bos granted house arrest',\n",
       " 'bbc: nato sends message russia',\n",
       " 'comment link 11/4/16 openthepodbaydoorshal',\n",
       " 'liberal hollywood implodes! rating trump-bashing emmys…insignificant celebrity dealt major blow!',\n",
       " 'hillary blast anti-woman, anti-immigrant republican glorious #gopdebate live tweet',\n",
       " 'comment ‘i won’t stop i’m fat move’: morbidly obese model dream weighing 1000lbs welcometoskaamoog',\n",
       " 'u.s. democratic party say document leaked, blame russian',\n",
       " 'powerful! formerly oppressed ex- muslim warns ignorant american danger “welcoming people fled from” [video]',\n",
       " 'watch: hell freeze fox news host call republican party ‘disgrace’ incapable governing',\n",
       " \"factbox: republicans' obamacare plan would dump medicaid expansion, tax\",\n",
       " 'fox news trying cover harassment lawsuit',\n",
       " 'minority youth mistrust police. brooklyn high school plan. - new york time',\n",
       " 'shocking report: 50% baby 24 state born via medicaid…is state list?',\n",
       " \"britain's new 3 billion pound warship leak\",\n",
       " 'special counsel meet senate committee leader',\n",
       " 'nominee u.s. epa chemical safety withdraws: bloomberg',\n",
       " 'obama say keep troop afghanistan planned - new york time',\n",
       " \"southeast congo face 'deadly disaster', half million people displaced: ngo\",\n",
       " 'despite eu caution, france pursues tough line iran missile program',\n",
       " 'rockettes required dance trump inauguration, company say - new york time',\n",
       " 'loretta lynch becomes first african-american woman ag.',\n",
       " 'university california worker sue losing job outsourcing - breitbart',\n",
       " 'trump blast medium lying bust mlk jr removed oval office…brings one important bust back oval office',\n",
       " 'senator warren endorses clinton president',\n",
       " 'u.s. give united nation billion tax dollar what?',\n",
       " 'republican vote defund u.n. retaliation one single issue',\n",
       " 'convoy roll damascus suburb aid 40,000: u.n.',\n",
       " 'liberal rag like usa today working overtime destroy trump…here’s proof american aren’t listening',\n",
       " 'boom! bronco player message fellow nfl player disrespecting flag: “we live greatest country earth”…if don’t like here…”why stay?”',\n",
       " 'ukraine say hope continued support russia u.s. trump',\n",
       " 'donald rumseld humiliates “the view” dingbat joy behar…calls understanding president elected [video]',\n",
       " 'ticking time bomb: young muslim west sympathizing terrorist',\n",
       " 'uber hire nasa engineer vtol ’flying car’ project - breitbart',\n",
       " 'venezuela making interest payment foreign debt: minister',\n",
       " 'michael moore want spot hillary’s cabinet',\n",
       " '#bringbackobama hashtag blow twitter american share memory (tweets)',\n",
       " 'trump got eight-year-old american girl killed, along child woman',\n",
       " 'republican threatening kill transgender student university',\n",
       " 'high school forced change mascot accusation ’stallions’ ’sexist’ - breitbart',\n",
       " 'u.s. citizen run busting bali prison',\n",
       " 'jonah hill joke - new york time',\n",
       " 'school hospitals, turkey carves north syria role',\n",
       " 'russian hope thaw trump dented top security adviser quits',\n",
       " \"trump's heartland voter shrug global uproar immigration ban\",\n",
       " 'republican strike back new u.s. ban forced arbitration',\n",
       " 'powerful: rape survivor explains men never allowed women’s bathroom locker room',\n",
       " 'dnc insider vote take bernie’s win new hampshire away (images)',\n",
       " 'orlando gunman shot least 8 times, autopsy find - new york time',\n",
       " 'hacker dump intel nsa’s elite equation group',\n",
       " 'hamas say security chief wounded gaza car bombing',\n",
       " 'melania trump rare one-on-one interview: watch destroy leftist msnbc hack immigration…”i followed law!”',\n",
       " 'week obama’s executive order catastrophic space weather events, coronal mass ejection set hit election day?',\n",
       " 'g7 fashion: first lady melania trump outshines fellow nato spouse blossoming ensemble',\n",
       " \"white house: change 'one china' policy trump call taiwan\",\n",
       " \"unexpected ingenious strategy obama's second term\",\n",
       " 'diversity gone wild: u government plan replace alexander hamilton $10 bill woman…',\n",
       " 'opinion: side abortion debate need talk honestly',\n",
       " '’snl’ star michael che sorry calling boston ’most racist city’',\n",
       " 'mexico presidential hopeful reject comparison venezuela',\n",
       " 'trump history corruption mind-boggling. clinton supposedly corrupt one',\n",
       " '‘classified’ email hillary clinton huma abedin found anthony weiner’s laptop',\n",
       " 'trump nat’l prayer breakfast: let’s pray arnold schwarzenegger’s ’apprentice’ rating - breitbart',\n",
       " 'twitter working biggest f*ck trump you’re going love (details)',\n",
       " 'congress vote avert shutdown, sends trump stopgap spending bill',\n",
       " 'sunday screening: counter intelligence – ‘the strategy tension’',\n",
       " \"exclusive: zimbabwe's grace mugabe say model attacked knife\",\n",
       " 'obama’s arrogance: watch admonishes reporter asking “content” 4 american held iran jail [video]',\n",
       " '#blacklivesmatter terrorist using #blackrail twitter organize shut rail mn viking game',\n",
       " 'dr. stephen leeb',\n",
       " 'ivanka trump’s dress nice, one major problem (video)',\n",
       " 'numbskull ben carson managed p*ss every decent parent america',\n",
       " 'date rape comment brooklyn police captain condemned - new york time',\n",
       " 'iraqi army discovers us-made missile isis’s military base',\n",
       " 'trump say never asked comey stop investigating flynn',\n",
       " 'former president george h.w. bush watched inaugural hospital room',\n",
       " 'destiny world',\n",
       " 'minor new zealand party focus hotly contested election get tighter',\n",
       " 'kim kardashian queen selfies retires booty breaking internet',\n",
       " 'macy’s get boot loyal customer firing trump',\n",
       " 'factbox: trump fill top job administration',\n",
       " \"john mccain donald trump: 'don’t dare make peace russia!'\",\n",
       " 'trump reassures farmer immigration crackdown aimed worker',\n",
       " 'violence prompt u.s. congress discus militant threat',\n",
       " \"germany watching trump's iran decision 'great concern'\",\n",
       " 'obama: republican risk diminishing credibility supreme court',\n",
       " '500 migrant may died sinking boat mediterranean, u.n. say - new york time',\n",
       " 'busted: hillary’s medium cheerleader caught hiding truth corrupt candidate ever live interview [video]',\n",
       " 'ivanka trump end fine jewelry line favor mass-market one - new york time',\n",
       " 'awesome! conservative woman speak like politician [video]',\n",
       " 'watch: ny town reject pledge allegiance…”total waste time”…could raise first amendment issue',\n",
       " 'full ufo disclosure inevitable',\n",
       " 'stevie wonder slam black life matter mn peace conference: “you cannot say ‘black life matter’ kill yourselves” [video]',\n",
       " '[video] bumbling u defense sec. can’t answer question whether we’ll defend 60 syrian we’re training fight isi',\n",
       " 'world trump: f*ck off, ‘inherit mess’ obama (video)',\n",
       " 'state polls: trump gain dramatically | daily wire',\n",
       " 'rise american authoritarianism',\n",
       " 'planned parenthood slam republican pretending shocked trump’s abortion stance',\n",
       " 'busted: steel union furious trump destroying american job',\n",
       " 'senility truth bomb? bill clinton crowd: “sometimes wish weren’t married” [video]',\n",
       " '400 u.s. troop leaving syria: coalition',\n",
       " 'mark cuban: “in event donald wins, doubt market tanks”…so here’s really happened [video]',\n",
       " 'hispanic gop commentator slam trump racist comment fraudulent university',\n",
       " 'overnight la vega attack deadliest mass shooting american history (details)',\n",
       " \"germany's fdp look fill schaeuble's big shoe\",\n",
       " 'french plan ‘mega database’ citizens’ personal data trigger protest',\n",
       " 'oil business seen strong position trump tackle tax reform',\n",
       " 'hilarious rare video show hillary prepared avoid trump hug',\n",
       " 'assange: clinton campaign tried hack wikileaks',\n",
       " '\"hamilton\" actor refuse apologize political stunt',\n",
       " 'chronovisor: device used look future past',\n",
       " 'many people popping vitamin d? - new york time',\n",
       " 'battle hollywood endorsement - cash - clinton rule',\n",
       " 'comey working for?',\n",
       " 'traveler stranded protest swell trump order - new york time',\n",
       " 'misleading mainstream medium pushing false narrative trump elector could steal election …why it’s gonna happen…and attack democracy really bad idea',\n",
       " 'trump campaign manager charged misdemeanor battery reporter',\n",
       " 'al sharpton’s “half-brother” registering thousand felon vote alabama’s controversial senate race? [video]',\n",
       " 'sheriff threatened arrest ceo apple protecting privacy (video)',\n",
       " 'obama’s crooked doj hide massive hillary scandal: “the u.s. government spent million dollars, went world bankrupt him, destroyed life — protect hillary clinton’s crimes”',\n",
       " 'breitbart news daily: london - breitbart',\n",
       " 'trump intelligence nominee support probe russian interference',\n",
       " 'lighter side rick owen - new york time',\n",
       " 'israeli minister miri regev: ‘thank god’ obama leaving office',\n",
       " 'irrational georgetown professor month-long meltdown fellow muslim professor voted trump: “f*ck you!” [video]',\n",
       " 'donald trump looking build trump tower moscow running president',\n",
       " 'tokyo governor koike challenge japanese pm abe new party',\n",
       " '2016: remains 61 dead migrant recovered one texas county',\n",
       " 'donald trump jr. blame scalise shooting ‘caesar’ actor get wrecked (tweets)',\n",
       " 'trump staffer admit bos idea daca',\n",
       " 'iraqi kurd prime minister: court voided referendum without krg input',\n",
       " 'trump vow strong tie israel elected president',\n",
       " 'donald trump posted brutal video show much everyone hate ted cruz (video)',\n",
       " 'session visit u.s.-mexico border push migrant crackdown',\n",
       " 'climate change, ideological partisan polarization hardens',\n",
       " '9 10 gang rapist sweden foreign origin',\n",
       " 'kenya lead african union?',\n",
       " 'russia attacked energy, telecom medium britain: government official',\n",
       " \"'bespoke' brexit, transition mean 'status quo': barnier\",\n",
       " 'trump economic boom? fed may stand way - new york time',\n",
       " 'marine corp general warns u.s. troops: “there’s war coming”',\n",
       " 'u.s. ease visa restriction gambia dec. 12',\n",
       " 'gop candidate fight spotlight ahead milwaukee debate',\n",
       " 'man fatally shot 2 officer hurt brooklyn housing complex - new york time',\n",
       " 'wikileaks admits screwing immensely twitter poll hillary’s health',\n",
       " 'conservative texas lt. governor tweet vile bible verse mass shooting lgbt club',\n",
       " 'comment mass fish deaths: million found dead world past month whackamole',\n",
       " 'trump never looked incompetent; china adviser literally found amazon (details)',\n",
       " 'alexandria police chief say five people taken hospital shooting',\n",
       " 'comey broke: stack resignation letter furious fbi agent',\n",
       " 'watch: fox news sided president obama gun control- now, nra? (video)',\n",
       " \"trump's 'paterno' comment spark jeer social medium\",\n",
       " 'katie hopkins leave lbc following ’final solution’ tweet',\n",
       " 'glenn greenwald: dems ‘suddenly love leaks,’ attacked obama - breitbart',\n",
       " 'dallas attack add cleveland concern republican convention',\n",
       " 'iraqi government asks foreign country stop oil trade kurdistan',\n",
       " 'syria, travel ban, kabul: morning briefing - new york time',\n",
       " 'black life matter organizer refuse meet obama race hustlers…calls meeting white house: “sham…photo-op…sound bite obama”',\n",
       " 'traumatized brain helped heal broken heart - new york time',\n",
       " 'u.s. belatedly begin comply russia sanction law',\n",
       " 'iran give investor glimpse $30 billion oil deal come',\n",
       " 'breaking: obama successfully whitewash american history…”racist” president andrew jackson replaced harriet tubman $20 bill',\n",
       " \"nasa's opportunity rover came across strange area red planet\",\n",
       " 'christian pastor jailed iran reveals stunning truth trump',\n",
       " 'amazon.con – roflmao',\n",
       " 'wow! democrat dennis kucunich warns: deep state trying take president – need stop',\n",
       " '“triggered!” black woman go berserk spotting confederate flag ‘general lee’ car event: “this racist car!” [video]',\n",
       " 'bodybuilder dy celebrity muay thai match ex-singapore idol contestant',\n",
       " \"south korea's moon unveils new focus southeast asia\",\n",
       " 'fbi insider: clinton email linked political pedophile sex ring',\n",
       " 'mainstream medium call real news “fake” narrative collapsing',\n",
       " 'new york, state challenge trump climate change regulation',\n",
       " 'trump vow stay race lewd remark surface',\n",
       " \"white house say can't lawfully pay obamacare subsidy\",\n",
       " 'two “high threat” explosive expert moved gitmo african country 90% muslim population [video]',\n",
       " 'uk parliament expected vote brexit deal late 2018 early 2019: davis',\n",
       " 'you’ll never guess conservative blowhard compared trump hitler (video)',\n",
       " 'isi supporter responds killing top isi operative: “if took abu sayyaf, take obama”',\n",
       " 'u.s. top court take republican challenge maryland electoral district',\n",
       " 'ukraine lawmaker worked trump associate face treason inquiry - new york time',\n",
       " 'boiler room – ep #48 – agenda 2030 beyond branko malić, patrick henningsen & mike robinson',\n",
       " 'trump’s f.c.c. pick quickly target net neutrality rule - new york time',\n",
       " 'let’s say obamacare repealed. then? - new york time',\n",
       " 'croatia want adopt euro within 7-8 years: prime minister',\n",
       " '‘take money!!’: email show clinton campaign manages lobbyist donation',\n",
       " 'terror attack over, 147 dead kenya university',\n",
       " \"trump, clinton meet 'humorous' al smith dinner\",\n",
       " 'khizr khan eviscerates trump disrespectful purple heart comment (video)',\n",
       " ...]"
      ]
     },
     "execution_count": 34,
     "metadata": {},
     "output_type": "execute_result"
    }
   ],
   "source": [
    "corpus"
   ]
  },
  {
   "cell_type": "code",
   "execution_count": 35,
   "id": "55cb4c16",
   "metadata": {},
   "outputs": [
    {
     "data": {
      "text/plain": [
       "71537"
      ]
     },
     "execution_count": 35,
     "metadata": {},
     "output_type": "execute_result"
    }
   ],
   "source": [
    "len(corpus)"
   ]
  },
  {
   "cell_type": "code",
   "execution_count": 36,
   "id": "ebf16cb5",
   "metadata": {},
   "outputs": [
    {
     "data": {
      "text/plain": [
       "'LAW ENFORCEMENT ON HIGH ALERT Following Threats Against Cops And Whites On 9-11By #BlackLivesMatter And #FYF911 Terrorists [VIDEO]'"
      ]
     },
     "execution_count": 36,
     "metadata": {},
     "output_type": "execute_result"
    }
   ],
   "source": [
    "df['title'][0]"
   ]
  },
  {
   "cell_type": "code",
   "execution_count": 37,
   "id": "93bcf835",
   "metadata": {},
   "outputs": [
    {
     "data": {
      "text/plain": [
       "'law enforcement high alert following threat cop white 9-11by #blacklivesmatter #fyf911 terrorist [video]'"
      ]
     },
     "execution_count": 37,
     "metadata": {},
     "output_type": "execute_result"
    }
   ],
   "source": [
    "corpus[0]"
   ]
  },
  {
   "cell_type": "markdown",
   "id": "dbd416a6",
   "metadata": {},
   "source": [
    "# 4. Vectorization (Convert Text data into the Vector)"
   ]
  },
  {
   "cell_type": "code",
   "execution_count": 40,
   "id": "56198bad",
   "metadata": {},
   "outputs": [
    {
     "data": {
      "text/plain": [
       "array([[0., 0., 0., ..., 0., 0., 0.],\n",
       "       [0., 0., 0., ..., 0., 0., 0.],\n",
       "       [0., 0., 0., ..., 0., 0., 0.],\n",
       "       ...,\n",
       "       [0., 0., 0., ..., 0., 0., 0.],\n",
       "       [0., 0., 0., ..., 0., 0., 0.],\n",
       "       [0., 0., 0., ..., 0., 0., 0.]])"
      ]
     },
     "execution_count": 40,
     "metadata": {},
     "output_type": "execute_result"
    }
   ],
   "source": [
    "tf = TfidfVectorizer(max_features=5000)\n",
    "x = tf.fit_transform(corpus).toarray()\n",
    "x"
   ]
  },
  {
   "cell_type": "code",
   "execution_count": 41,
   "id": "3098b261",
   "metadata": {},
   "outputs": [
    {
     "data": {
      "text/plain": [
       "0    1\n",
       "1    1\n",
       "2    0\n",
       "3    1\n",
       "4    1\n",
       "Name: label, dtype: int64"
      ]
     },
     "execution_count": 41,
     "metadata": {},
     "output_type": "execute_result"
    }
   ],
   "source": [
    "y = df['label']\n",
    "y.head()"
   ]
  },
  {
   "cell_type": "markdown",
   "id": "7d3f2b52",
   "metadata": {},
   "source": [
    "# Data splitting into the train and test"
   ]
  },
  {
   "cell_type": "code",
   "execution_count": 42,
   "id": "ddebeba5",
   "metadata": {},
   "outputs": [],
   "source": [
    "x_train, x_test, y_train, y_test = train_test_split(x,y, test_size = 0.3, random_state = 10, stratify = y )"
   ]
  },
  {
   "cell_type": "code",
   "execution_count": 43,
   "id": "4e86b3dd",
   "metadata": {},
   "outputs": [
    {
     "data": {
      "text/plain": [
       "(50075, 50075)"
      ]
     },
     "execution_count": 43,
     "metadata": {},
     "output_type": "execute_result"
    }
   ],
   "source": [
    "len(x_train),len(y_train)"
   ]
  },
  {
   "cell_type": "code",
   "execution_count": 44,
   "id": "d1558a65",
   "metadata": {},
   "outputs": [
    {
     "data": {
      "text/plain": [
       "(21462, 21462)"
      ]
     },
     "execution_count": 44,
     "metadata": {},
     "output_type": "execute_result"
    }
   ],
   "source": [
    "len(x_test), len(y_test)"
   ]
  },
  {
   "cell_type": "markdown",
   "id": "53e4115f",
   "metadata": {},
   "source": [
    "# 5. Model Building"
   ]
  },
  {
   "cell_type": "code",
   "execution_count": 53,
   "id": "407f8808",
   "metadata": {},
   "outputs": [
    {
     "data": {
      "text/html": [
       "<style>#sk-container-id-1 {color: black;}#sk-container-id-1 pre{padding: 0;}#sk-container-id-1 div.sk-toggleable {background-color: white;}#sk-container-id-1 label.sk-toggleable__label {cursor: pointer;display: block;width: 100%;margin-bottom: 0;padding: 0.3em;box-sizing: border-box;text-align: center;}#sk-container-id-1 label.sk-toggleable__label-arrow:before {content: \"▸\";float: left;margin-right: 0.25em;color: #696969;}#sk-container-id-1 label.sk-toggleable__label-arrow:hover:before {color: black;}#sk-container-id-1 div.sk-estimator:hover label.sk-toggleable__label-arrow:before {color: black;}#sk-container-id-1 div.sk-toggleable__content {max-height: 0;max-width: 0;overflow: hidden;text-align: left;background-color: #f0f8ff;}#sk-container-id-1 div.sk-toggleable__content pre {margin: 0.2em;color: black;border-radius: 0.25em;background-color: #f0f8ff;}#sk-container-id-1 input.sk-toggleable__control:checked~div.sk-toggleable__content {max-height: 200px;max-width: 100%;overflow: auto;}#sk-container-id-1 input.sk-toggleable__control:checked~label.sk-toggleable__label-arrow:before {content: \"▾\";}#sk-container-id-1 div.sk-estimator input.sk-toggleable__control:checked~label.sk-toggleable__label {background-color: #d4ebff;}#sk-container-id-1 div.sk-label input.sk-toggleable__control:checked~label.sk-toggleable__label {background-color: #d4ebff;}#sk-container-id-1 input.sk-hidden--visually {border: 0;clip: rect(1px 1px 1px 1px);clip: rect(1px, 1px, 1px, 1px);height: 1px;margin: -1px;overflow: hidden;padding: 0;position: absolute;width: 1px;}#sk-container-id-1 div.sk-estimator {font-family: monospace;background-color: #f0f8ff;border: 1px dotted black;border-radius: 0.25em;box-sizing: border-box;margin-bottom: 0.5em;}#sk-container-id-1 div.sk-estimator:hover {background-color: #d4ebff;}#sk-container-id-1 div.sk-parallel-item::after {content: \"\";width: 100%;border-bottom: 1px solid gray;flex-grow: 1;}#sk-container-id-1 div.sk-label:hover label.sk-toggleable__label {background-color: #d4ebff;}#sk-container-id-1 div.sk-serial::before {content: \"\";position: absolute;border-left: 1px solid gray;box-sizing: border-box;top: 0;bottom: 0;left: 50%;z-index: 0;}#sk-container-id-1 div.sk-serial {display: flex;flex-direction: column;align-items: center;background-color: white;padding-right: 0.2em;padding-left: 0.2em;position: relative;}#sk-container-id-1 div.sk-item {position: relative;z-index: 1;}#sk-container-id-1 div.sk-parallel {display: flex;align-items: stretch;justify-content: center;background-color: white;position: relative;}#sk-container-id-1 div.sk-item::before, #sk-container-id-1 div.sk-parallel-item::before {content: \"\";position: absolute;border-left: 1px solid gray;box-sizing: border-box;top: 0;bottom: 0;left: 50%;z-index: -1;}#sk-container-id-1 div.sk-parallel-item {display: flex;flex-direction: column;z-index: 1;position: relative;background-color: white;}#sk-container-id-1 div.sk-parallel-item:first-child::after {align-self: flex-end;width: 50%;}#sk-container-id-1 div.sk-parallel-item:last-child::after {align-self: flex-start;width: 50%;}#sk-container-id-1 div.sk-parallel-item:only-child::after {width: 0;}#sk-container-id-1 div.sk-dashed-wrapped {border: 1px dashed gray;margin: 0 0.4em 0.5em 0.4em;box-sizing: border-box;padding-bottom: 0.4em;background-color: white;}#sk-container-id-1 div.sk-label label {font-family: monospace;font-weight: bold;display: inline-block;line-height: 1.2em;}#sk-container-id-1 div.sk-label-container {text-align: center;}#sk-container-id-1 div.sk-container {/* jupyter's `normalize.less` sets `[hidden] { display: none; }` but bootstrap.min.css set `[hidden] { display: none !important; }` so we also need the `!important` here to be able to override the default hidden behavior on the sphinx rendered scikit-learn.org. See: https://github.com/scikit-learn/scikit-learn/issues/21755 */display: inline-block !important;position: relative;}#sk-container-id-1 div.sk-text-repr-fallback {display: none;}</style><div id=\"sk-container-id-1\" class=\"sk-top-container\"><div class=\"sk-text-repr-fallback\"><pre>RandomForestClassifier()</pre><b>In a Jupyter environment, please rerun this cell to show the HTML representation or trust the notebook. <br />On GitHub, the HTML representation is unable to render, please try loading this page with nbviewer.org.</b></div><div class=\"sk-container\" hidden><div class=\"sk-item\"><div class=\"sk-estimator sk-toggleable\"><input class=\"sk-toggleable__control sk-hidden--visually\" id=\"sk-estimator-id-1\" type=\"checkbox\" checked><label for=\"sk-estimator-id-1\" class=\"sk-toggleable__label sk-toggleable__label-arrow\">RandomForestClassifier</label><div class=\"sk-toggleable__content\"><pre>RandomForestClassifier()</pre></div></div></div></div></div>"
      ],
      "text/plain": [
       "RandomForestClassifier()"
      ]
     },
     "execution_count": 53,
     "metadata": {},
     "output_type": "execute_result"
    }
   ],
   "source": [
    "rf = RandomForestClassifier()\n",
    "rf.fit(x_train, y_train)"
   ]
  },
  {
   "cell_type": "markdown",
   "id": "832d392c",
   "metadata": {},
   "source": [
    "# 6. Model Evaluation"
   ]
  },
  {
   "cell_type": "code",
   "execution_count": 71,
   "id": "683c09f7",
   "metadata": {
    "scrolled": true
   },
   "outputs": [
    {
     "name": "stdout",
     "output_type": "stream",
     "text": [
      "Accuracy of the model:  0.8979591836734694\n"
     ]
    }
   ],
   "source": [
    "y_pred = rf.predict(x_test)\n",
    "acc=accuracy_score(y_test,y_pred)\n",
    "print(\"Accuracy of the model: \",acc)"
   ]
  },
  {
   "cell_type": "code",
   "execution_count": 62,
   "id": "1cc3af77",
   "metadata": {},
   "outputs": [
    {
     "data": {
      "image/png": "[encoded data removed]",
      "text/plain": [
       "<Figure size 640x480 with 1 Axes>"
      ]
     },
     "metadata": {},
     "output_type": "display_data"
    }
   ],
   "source": [
    "cfm=confusion_matrix(y_test,y_pred)\n",
    "sns.heatmap(cfm, annot=True, fmt='g', cbar=False, cmap='BuPu')\n",
    "plt.xlabel('Predicted Values')\n",
    "plt.ylabel('Actual Values')\n",
    "plt.show()"
   ]
  },
  {
   "cell_type": "code",
   "execution_count": 65,
   "id": "f60d7a97",
   "metadata": {},
   "outputs": [
    {
     "name": "stdout",
     "output_type": "stream",
     "text": [
      "              precision    recall  f1-score   support\n",
      "\n",
      "           0       0.90      0.89      0.89     10509\n",
      "           1       0.89      0.91      0.90     10953\n",
      "\n",
      "    accuracy                           0.90     21462\n",
      "   macro avg       0.90      0.90      0.90     21462\n",
      "weighted avg       0.90      0.90      0.90     21462\n",
      "\n"
     ]
    }
   ],
   "source": [
    "print(classification_report(y_test,y_pred))"
   ]
  },
  {
   "cell_type": "code",
   "execution_count": 75,
   "id": "2e3fa3d1",
   "metadata": {},
   "outputs": [],
   "source": [
    "class Evaluation:\n",
    "    \n",
    "    def __init__(self,model,x_train,x_test,y_train,y_test):\n",
    "        self.model = model\n",
    "        self.x_train = x_train\n",
    "        self.x_test = x_test\n",
    "        self.y_train = y_train\n",
    "        self.y_test = y_test\n",
    "        \n",
    "    def train_evaluation(self):\n",
    "        y_pred_train = self.model.predict(self.x_train)\n",
    "        \n",
    "        acc_scr_train = accuracy_score(self.y_train,y_pred_train)\n",
    "        print(\"Accuracy Score On Training Data Set :\",acc_scr_train)\n",
    "        print()\n",
    "        \n",
    "        con_mat_train = confusion_matrix(self.y_train,y_pred_train)\n",
    "        print(\"Confusion Matrix On Training Data Set :\\n\",con_mat_train)\n",
    "        print()\n",
    "        \n",
    "        class_rep_train = classification_report(self.y_train,y_pred_train)\n",
    "        print(\"Classification Report On Training Data Set :\\n\",class_rep_train)\n",
    "        \n",
    "        \n",
    "    def test_evaluation(self):\n",
    "        y_pred_test = self.model.predict(self.x_test)\n",
    "        \n",
    "        acc_scr_test = accuracy_score(self.y_test,y_pred_test)\n",
    "        print(\"Accuracy Score On Testing Data Set :\",acc_scr_test)\n",
    "        print()\n",
    "        \n",
    "        con_mat_test = confusion_matrix(self.y_test,y_pred_test)\n",
    "        print(\"Confusion Matrix On Testing Data Set :\\n\",con_mat_test)\n",
    "        print()\n",
    "        \n",
    "        class_rep_test = classification_report(self.y_test,y_pred_test)\n",
    "        print(\"Classification Report On Testing Data Set :\\n\",class_rep_test)"
   ]
  },
  {
   "cell_type": "code",
   "execution_count": 76,
   "id": "91fa7e03",
   "metadata": {},
   "outputs": [
    {
     "name": "stdout",
     "output_type": "stream",
     "text": [
      "Accuracy Score On Training Data Set : 0.9997803295057414\n",
      "\n",
      "Confusion Matrix On Training Data Set :\n",
      " [[24511     8]\n",
      " [    3 25553]]\n",
      "\n",
      "Classification Report On Training Data Set :\n",
      "               precision    recall  f1-score   support\n",
      "\n",
      "           0       1.00      1.00      1.00     24519\n",
      "           1       1.00      1.00      1.00     25556\n",
      "\n",
      "    accuracy                           1.00     50075\n",
      "   macro avg       1.00      1.00      1.00     50075\n",
      "weighted avg       1.00      1.00      1.00     50075\n",
      "\n"
     ]
    }
   ],
   "source": [
    "#Checking the accuracy on training dataset\n",
    "\n",
    "Evaluation(rf,x_train, x_test, y_train, y_test).train_evaluation()"
   ]
  },
  {
   "cell_type": "code",
   "execution_count": 77,
   "id": "0ca5fe38",
   "metadata": {},
   "outputs": [
    {
     "name": "stdout",
     "output_type": "stream",
     "text": [
      "Accuracy Score On Testing Data Set : 0.8979591836734694\n",
      "\n",
      "Confusion Matrix On Testing Data Set :\n",
      " [[9316 1193]\n",
      " [ 997 9956]]\n",
      "\n",
      "Classification Report On Testing Data Set :\n",
      "               precision    recall  f1-score   support\n",
      "\n",
      "           0       0.90      0.89      0.89     10509\n",
      "           1       0.89      0.91      0.90     10953\n",
      "\n",
      "    accuracy                           0.90     21462\n",
      "   macro avg       0.90      0.90      0.90     21462\n",
      "weighted avg       0.90      0.90      0.90     21462\n",
      "\n"
     ]
    }
   ],
   "source": [
    "#Checking the accuracy on testing dataset\n",
    "Evaluation(rf,x_train, x_test, y_train, y_test).test_evaluation()"
   ]
  },
  {
   "cell_type": "markdown",
   "id": "dc4f468b",
   "metadata": {},
   "source": [
    "# Prediction Pipeline"
   ]
  },
  {
   "cell_type": "code",
   "execution_count": 78,
   "id": "fdd3a44f",
   "metadata": {},
   "outputs": [],
   "source": [
    "class Preprocessing:\n",
    "    \n",
    "    def __init__(self,data):\n",
    "        self.data = data\n",
    "        \n",
    "    def text_preprocessing_user(self):\n",
    "        lm = WordNetLemmatizer()\n",
    "        pred_data = [self.data]    \n",
    "        preprocess_data = []\n",
    "        for data in pred_data:\n",
    "            review = re.sub('^a-zA-Z0-9',' ', data)\n",
    "            review = review.lower()\n",
    "            review = review.split()\n",
    "            review = [lm.lemmatize(x) for x in review if x not in stopwords]\n",
    "            review = \" \".join(review)\n",
    "            preprocess_data.append(review)\n",
    "        return preprocess_data    "
   ]
  },
  {
   "cell_type": "code",
   "execution_count": 79,
   "id": "94891bfc",
   "metadata": {},
   "outputs": [
    {
     "data": {
      "text/plain": [
       "'UNBELIEVABLE! OBAMA’S ATTORNEY GENERAL SAYS MOST CHARLOTTE RIOTERS WERE “PEACEFUL” PROTESTERS…In Her Home State Of North Carolina [VIDEO]'"
      ]
     },
     "execution_count": 79,
     "metadata": {},
     "output_type": "execute_result"
    }
   ],
   "source": [
    "df['title'][1]"
   ]
  },
  {
   "cell_type": "code",
   "execution_count": 80,
   "id": "274244df",
   "metadata": {},
   "outputs": [
    {
     "data": {
      "text/plain": [
       "['flynn: hillary clinton, big woman campus - breitbart']"
      ]
     },
     "execution_count": 80,
     "metadata": {},
     "output_type": "execute_result"
    }
   ],
   "source": [
    "data = 'FLYNN: Hillary Clinton, Big Woman on Campus - Breitbart'\n",
    "Preprocessing(data).text_preprocessing_user()"
   ]
  },
  {
   "cell_type": "code",
   "execution_count": 81,
   "id": "757b9f15",
   "metadata": {},
   "outputs": [],
   "source": [
    "class Prediction:\n",
    "    \n",
    "    def __init__(self,pred_data, model):\n",
    "        self.pred_data = pred_data\n",
    "        self.model = model\n",
    "        \n",
    "    def prediction_model(self):\n",
    "        preprocess_data = Preprocessing(self.pred_data).text_preprocessing_user()\n",
    "        data = tf.transform(preprocess_data)\n",
    "        prediction = self.model.predict(data)\n",
    "        \n",
    "        if prediction [0] == 0 :\n",
    "            return \"The News Is Fake\"\n",
    "        \n",
    "        else:\n",
    "            return \"The News Is Real\""
   ]
  },
  {
   "cell_type": "code",
   "execution_count": 82,
   "id": "ee7d4d51",
   "metadata": {},
   "outputs": [
    {
     "data": {
      "text/plain": [
       "'The News Is Fake'"
      ]
     },
     "execution_count": 82,
     "metadata": {},
     "output_type": "execute_result"
    }
   ],
   "source": [
    "data = 'FLYNN: Hillary Clinton, Big Woman on Campus - Breitbart'\n",
    "Prediction(data,rf).prediction_model()"
   ]
  },
  {
   "cell_type": "code",
   "execution_count": 83,
   "id": "59913ca9",
   "metadata": {},
   "outputs": [
    {
     "data": {
      "text/plain": [
       "'SATAN 2: Russia unvelis an image of its terrifying new ‘SUPERNUKE’ – Western world takes notice'"
      ]
     },
     "execution_count": 83,
     "metadata": {},
     "output_type": "execute_result"
    }
   ],
   "source": [
    "df['title'][3]"
   ]
  },
  {
   "cell_type": "code",
   "execution_count": 84,
   "id": "c66abd34",
   "metadata": {},
   "outputs": [
    {
     "data": {
      "text/plain": [
       "'The News Is Real'"
      ]
     },
     "execution_count": 84,
     "metadata": {},
     "output_type": "execute_result"
    }
   ],
   "source": [
    "user_data = '15 Civilians Killed In Single US Airstrike Have Been Identified' \n",
    "Prediction(user_data,rf).prediction_model()"
   ]
  },
  {
   "cell_type": "code",
   "execution_count": null,
   "id": "8b7fb8d5",
   "metadata": {},
   "outputs": [],
   "source": []
  },
  {
   "cell_type": "code",
   "execution_count": null,
   "id": "7ea1f16f",
   "metadata": {},
   "outputs": [],
   "source": []
  },
  {
   "cell_type": "code",
   "execution_count": null,
   "id": "52e200b2",
   "metadata": {},
   "outputs": [],
   "source": []
  }
 ],
 "metadata": {
  "kernelspec": {
   "display_name": "Python 3 (ipykernel)",
   "language": "python",
   "name": "python3"
  },
  "language_info": {
   "codemirror_mode": {
    "name": "ipython",
    "version": 3
   },
   "file_extension": ".py",
   "mimetype": "text/x-python",
   "name": "python",
   "nbconvert_exporter": "python",
   "pygments_lexer": "ipython3",
   "version": "3.11.4"
  }
 },
 "nbformat": 4,
 "nbformat_minor": 5
}
